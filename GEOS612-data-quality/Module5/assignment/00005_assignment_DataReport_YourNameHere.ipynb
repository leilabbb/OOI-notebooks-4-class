{
 "cells": [
  {
   "cell_type": "markdown",
   "metadata": {},
   "source": [
    "## Data Report Assignment.\n",
    "\n",
    "<span style='color:blue'> Instructions </span>:\n",
    "\n",
    "- Rename this notebook to include your name.\n",
    "- Use the *_recovered.csv file that lists the *.nc files. \n",
    "- Use the outline below to complete the assignment."
   ]
  },
  {
   "cell_type": "markdown",
   "metadata": {},
   "source": [
    "### Notebook Outline:\n",
    "- Plot **two** of the science variables using [**plot_var( )**](#1) function. \n",
    "> - load your data files.\n",
    "  - choose **sci_var** from the following list:\n",
    "     ['density', 'practical_salinity', 'ctdmo_seawater_temperature', 'ctdmo_seawater_conductivity']\n",
    "  - choose **ctdmo_seawater_pressure** for the **outlier_var**\n",
    "  - to run plot_var() function use the following syntax:\n",
    "      fig, ax1, ax2 = plot_var(datafile, sci_var, outlier_var)\n",
    "      - the function should return two plots.\n",
    "  - add dependensices: reject_outliers() function.\n",
    " \n",
    "- Compare data annotations and data notes to the observations in the example notebook and answer the following question:\n",
    "    - Do the annotations and notes address all data issues? Explain your answer. Refer to previous note books from Modules 3 and 4 if necessary."
   ]
  },
  {
   "cell_type": "markdown",
   "metadata": {},
   "source": [
    "<a id=\"1\"></a>\n",
    "### plot_var function:"
   ]
  },
  {
   "cell_type": "code",
   "execution_count": 41,
   "metadata": {},
   "outputs": [],
   "source": [
    "\n",
    "def plot_var(file_list, sci_var, outlier_var):\n",
    "    '''\n",
    "    datafile: a .csv file with netCDF file(s) names.\n",
    "    sci_var: a science variable in the netCDF file.\n",
    "    outlier_var: a variable selected to use to find outiers in the data.\n",
    "    \n",
    "    - to run the function use the following syntax:\n",
    "    fig, ax1, ax2 = plot_var(datafile, sci_var, outlier_var)\n",
    "    \n",
    "    - dependensices: reject_outliers()\n",
    "    '''\n",
    "    \n",
    "    fig, (ax1, ax2) = plt.subplots(2,1,figsize=(14,10))\n",
    "    \n",
    "    for dataset in file_list['files']:\n",
    "\n",
    "        #open dataset\n",
    "        ds = xr.open_dataset(dataset)\n",
    "        \n",
    "        # prepare time array for plotting\n",
    "        ds = ds.swap_dims({'obs': 'time'})        \n",
    "        date_arr = [str(d)[:-4] for d in ds['time'].values]\n",
    "        date_arr = [datetime.strptime(d, '%Y-%m-%dT%H:%M:%S.%f') for d in date_arr]\n",
    "        \n",
    "        # get dataset method and set yaxis label\n",
    "        delivery_method = dataset.split('_')[1].split('-')[4]\n",
    "        yaxis_label = ds[sci_var].long_name + ds[sci_var].units\n",
    "\n",
    "        # alternate colors between telemetered and recovered datasets\n",
    "        if delivery_method == 'recovered':\n",
    "            color_dots = 'blue'\n",
    "        else:\n",
    "            color_dots = 'cyan'\n",
    "        \n",
    "        # Get outlier indices using the function 'reject_outliers()'.\n",
    "        # Notice the variable used to select outliers is seawater pressure\n",
    "        ind = reject_outliers(ds[outlier_var].values, 5)\n",
    "        \n",
    "        res_t = [i for i, val in enumerate(ind) if val == True] \n",
    "        res_f = [i for i, val in enumerate(ind) if val == False]\n",
    "\n",
    "        date_list_good = [date_arr[i] for i in res_t]\n",
    "        temp_good = [ds[sci_var].values[i] for i in res_t]\n",
    "\n",
    "        date_list_suspect = [date_arr[i] for i in res_f]\n",
    "        temp_suspect = [ds[sci_var].values[i] for i in res_f]\n",
    "\n",
    "        # plot all data\n",
    "        ds[sci_var].plot(ax=ax1, linestyle='None', marker='.', markersize=1, color=color_dots) \n",
    "        # plot outliers\n",
    "        ax1.plot(date_list_suspect, temp_suspect, linestyle='None',marker='o',markersize=10, fillstyle='none')\n",
    "        # set subplot 1\n",
    "        ax1.set_ylabel(yaxis_label, rotation='vertical', wrap=False)\n",
    "        ax1.set(title= 'with outliers')\n",
    "        \n",
    "        # plot non-suspect data\n",
    "        ax2.plot(date_list_good, temp_good, linestyle='None', marker='.', markersize=1, color=color_dots) \n",
    "        # set subplot 2\n",
    "        ax2.set(title= 'without outliers')       \n",
    "        ax2.set_ylabel(yaxis_label, rotation='vertical', wrap=False)\n",
    "        \n",
    "        # fix plot to the best fit\n",
    "        plt.tight_layout()\n",
    "        \n",
    "    return fig, ax1, ax2"
   ]
  },
  {
   "cell_type": "code",
   "execution_count": null,
   "metadata": {},
   "outputs": [],
   "source": []
  }
 ],
 "metadata": {
  "kernelspec": {
   "display_name": "Python 3",
   "language": "python",
   "name": "python3"
  },
  "language_info": {
   "codemirror_mode": {
    "name": "ipython",
    "version": 3
   },
   "file_extension": ".py",
   "mimetype": "text/x-python",
   "name": "python",
   "nbconvert_exporter": "python",
   "pygments_lexer": "ipython3",
   "version": "3.7.7"
  }
 },
 "nbformat": 4,
 "nbformat_minor": 4
}
