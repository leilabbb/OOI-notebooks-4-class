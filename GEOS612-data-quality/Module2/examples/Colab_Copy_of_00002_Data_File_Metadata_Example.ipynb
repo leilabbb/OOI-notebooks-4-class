{
 "cells": [
  {
   "cell_type": "markdown",
   "metadata": {
    "colab_type": "text",
    "id": "d2De5BYMC08T"
   },
   "source": [
    "# Explore the Data File Metadata.\n",
    "\n",
    "The data file to be used in Module 2 Lab assignment is a NetCDF file. The following is a brief description of the file type, its data structure, and why it is suitable for the Metadata exercise.\n",
    "\n",
    "#### File Type: \n",
    "\n",
    "- The file type used for this exercise is the Network Common Data Form file (NetCDF) with file extension \"*.nc\".\n",
    "- NetCDF is based on a binary file storage mechanism.\n",
    "- It is a self-documenting data storage and data access method that is used in the geoscience filed.\n",
    "\n",
    "\n",
    "\n",
    " #### Data Structure:\n",
    " \n",
    "- NetCDF is commonly used for storing and interchanging multidimensional scientific data variables (Schema 1).\n",
    "- This file type includes data (observation values) and descriptive information about the data (Metadata). \n",
    "- Data are displayed through a dimension such as time, date, latitude, longitude, or depth. \n",
    "\n",
    "\n",
    "##### Why NetCDF File?\n",
    "\n",
    "- The NetCDF files are easy to manipulate.\n",
    "- Metadata is entered in a structured way, so it is easy to retrieve.\n",
    "- Metadata entries can use a free text format and a good number of words.\n",
    "- Other file types do not all share these characteristics. Such files are: excel (.xlsx), text (.txt), and comma separated (.csv) file types."
   ]
  },
  {
   "cell_type": "markdown",
   "metadata": {
    "colab_type": "text",
    "id": "XQgoTzwNC08U"
   },
   "source": [
    "### Schema 1.\n",
    "#### NetCDF Multidimensional Data Structure Example.\n",
    "[Schema 1 Link](https://drive.google.com/open?id=1U6FIN_HOADG2O00Pcd6OgmIIDms7KzSe)\n",
    " "
   ]
  },
  {
   "cell_type": "markdown",
   "metadata": {
    "colab_type": "text",
    "id": "dYUjvO7BC08V"
   },
   "source": [
    "### <font color=\"Green\"> Outline   </font>\n",
    "\n",
    "- In this exercise we are going to execute the following steps to learn how to work with the NetCDF files and extract metadata information:\n",
    "\n",
    "    * [Step 0. Import Python Packages.](#0)\n",
    "    * [Step 1. Mounting Google Drive.](#1)\n",
    "    * [Step 2. Access, Load, and Print the Data File Content.](#11)\n",
    "\n",
    "        * [Access Data File.](#12)\n",
    "\n",
    "        * [Define Data File.](#2)\n",
    "        \n",
    "        * [Load Data File.](#3)\n",
    "        \n",
    "        * [Print Data File.](#4)\n",
    "        \n",
    "        * [Data File Content.](#5)\n",
    "        \n",
    "    * [Step 3. Extract File Elements Separately.](#6)\n",
    "    \n",
    "        * [Python Syntax.](#7)\n",
    "        \n",
    "        * [Dimensions](#8)\n",
    "        \n",
    "            * [Explore Dimensions Variables.](#9)\n",
    "            \n",
    "        * [Coordinates.](#10)\n",
    "         \n",
    "            * [Explore Coordinates Variables.](#11)\n",
    "             \n",
    "        * [Data Variables.](#12)\n",
    "         \n",
    "            * [Explore Data Variables.](#13)\n",
    "            \n",
    "            * [Explore Data Variables Attributes.](#31)\n",
    "             \n",
    "            * [Extract the Attributes Content.](#14)\n",
    "             \n",
    "        * [Attributes.](#15)\n",
    "         \n",
    "            * [Explore Attributes Variables.](#16)\n",
    "             \n",
    "            * [Extract Attributes Information.](#17)\n",
    "             \n",
    "    * [Metadata Summary.](#18)\n",
    "        "
   ]
  },
  {
   "cell_type": "markdown",
   "metadata": {
    "colab_type": "text",
    "id": "3iLf0RF_C08V"
   },
   "source": [
    "<font color=\"Orange\" > **Attention:** </font> \n",
    "- This lab learning material is a reference for the rest of the course labs. \n",
    "- To run the notebook, you need to follow the septs in order.\n",
    "- Do not forget to run you cell before you move on to the next one. \n",
    "- This is especially true for the code cells: the output of a cell may be an input in the next cell."
   ]
  },
  {
   "cell_type": "markdown",
   "metadata": {
    "colab_type": "text",
    "id": "vDQOqJZZC08W"
   },
   "source": [
    "<a id=\"#0\"></a>\n",
    "## Step 0. Import Python Packages. </font>\n",
    "To run the code lines in this notebook you need xarray and pandas python packages.\n",
    "Use the import function to access the packages in the Python library.\n",
    "\n",
    "<font color=\"Purple\" > **Note:** </font> \n",
    "- If you need to add more packages you can do so in a code cell. \n",
    "\n",
    "- The package needs to be imported before it is called in the command line.\n"
   ]
  },
  {
   "cell_type": "code",
   "execution_count": 0,
   "metadata": {
    "colab": {},
    "colab_type": "code",
    "id": "-rTgm_B2C08X"
   },
   "outputs": [],
   "source": [
    "# xr, pd are the package IDs used to call python's function to run code lines.\n",
    "import xarray as xr\n",
    "import pandas as pd\n",
    "import os"
   ]
  },
  {
   "cell_type": "markdown",
   "metadata": {
    "colab_type": "text",
    "id": "WAU8_3-xuPHk"
   },
   "source": [
    "<a id=\"1\"></a>\n",
    "## Step 1. Mounting Google Drive.\n",
    "-  To access files on google colab run the following 2 command lines and follow the instructions:\n",
    "\n",
    "- Instructions:\n",
    "  - when asked to enter you code, click on the \"Go to this URL in a browser\",\n",
    "  - then click on your account and copy the code,\n",
    "  - enter the copied code in \"Enter your authorization code\" and click enter.\n",
    "\n",
    "  - you should get \"Mounted at /content/drive\""
   ]
  },
  {
   "cell_type": "code",
   "execution_count": 4,
   "metadata": {
    "colab": {
     "base_uri": "https://localhost:8080/",
     "height": 34
    },
    "colab_type": "code",
    "executionInfo": {
     "elapsed": 1848,
     "status": "ok",
     "timestamp": 1591646779208,
     "user": {
      "displayName": "Leila Baghdad Brahim (Belabbassi)",
      "photoUrl": "https://lh3.googleusercontent.com/a-/AOh14Gh33uOvxGlF-U0RUHVofMwOIF3KWKIC64Ok0ZMp=s64",
      "userId": "03673382889072848504"
     },
     "user_tz": 300
    },
    "id": "9asfbgJ5umNN",
    "outputId": "d25ac5e6-a4cc-44b8-9e04-a8a0959a80f9"
   },
   "outputs": [
    {
     "name": "stdout",
     "output_type": "stream",
     "text": [
      "Mounted at /content/drive\n"
     ]
    }
   ],
   "source": [
    "from google.colab import drive\n",
    "drive.mount('/content/drive', force_remount=True)"
   ]
  },
  {
   "cell_type": "markdown",
   "metadata": {
    "colab_type": "text",
    "id": "8nsl4RIoC08b"
   },
   "source": [
    "<a id=\"11\"></a>\n",
    "## Step 2. Access, Load , and Print the Data File Content.  </font>\n"
   ]
  },
  {
   "cell_type": "markdown",
   "metadata": {
    "colab_type": "text",
    "id": "LOaFJu32tmGi"
   },
   "source": [
    "<a id=\"12\"></a>\n",
    "### Access Data File.\n",
    "- Change directory to where your data file is stored using the following command:\n",
    "\n"
   ]
  },
  {
   "cell_type": "code",
   "execution_count": 0,
   "metadata": {
    "colab": {},
    "colab_type": "code",
    "id": "dSTfkFti5ZSW"
   },
   "outputs": [],
   "source": [
    "os.chdir('/content/drive/Shared drives/GEOS689-776/Module2_NetCDF_Files')"
   ]
  },
  {
   "cell_type": "markdown",
   "metadata": {
    "colab_type": "text",
    "id": "xh8ip6mvvvhU"
   },
   "source": [
    "  - Check the directory you are in and list its content using the following commands:"
   ]
  },
  {
   "cell_type": "code",
   "execution_count": 0,
   "metadata": {
    "colab": {},
    "colab_type": "code",
    "id": "fON0YfBj6ZnA"
   },
   "outputs": [],
   "source": [
    "# use pwd to check which directory you are in\n",
    "!pwd\n",
    "# use ls to list files and directories on your drive\n",
    "!ls"
   ]
  },
  {
   "cell_type": "markdown",
   "metadata": {
    "colab_type": "text",
    "id": "DcJGPRJ5C08c"
   },
   "source": [
    "<a id=\"2\"></a>\n",
    "### Define Data File.\n",
    "- Since you are in the directory where the data file is stored you only need to set the variable **filename** to the name of the data file:\n",
    "\n",
    " - filename = 'your data file name'  \n",
    " \n",
    " **Note**: Your data file name should end with .nc"
   ]
  },
  {
   "cell_type": "code",
   "execution_count": 0,
   "metadata": {
    "colab": {},
    "colab_type": "code",
    "id": "eT_fNoyY6iV9"
   },
   "outputs": [],
   "source": [
    "filename = 'deployment0004_GP03FLMB-RIM01-02-CTDMOG060-telemetered-ctdmo_ghqr_sio_mule_instrument_20161008T080001-20161030T120001.nc'"
   ]
  },
  {
   "cell_type": "markdown",
   "metadata": {
    "colab_type": "text",
    "id": "SWuqgw_FC08m"
   },
   "source": [
    "<a id=\"3\"></a>\n",
    "### Load Data File. \n",
    "- Use xarray (**xr**) to open and read the data file content.\n",
    "- Set **file_content** as a variable to record the data file content."
   ]
  },
  {
   "cell_type": "code",
   "execution_count": 0,
   "metadata": {
    "colab": {},
    "colab_type": "code",
    "id": "sDeTAC00C08n"
   },
   "outputs": [],
   "source": [
    "# Since this is a NetCDF4 file, you need to install the netcdf4 library.\n",
    "! pip install netcdf4\n",
    "file_content = xr.open_dataset(filename,mask_and_scale=False)"
   ]
  },
  {
   "cell_type": "markdown",
   "metadata": {
    "colab_type": "text",
    "id": "xIVcXIr-C08r"
   },
   "source": [
    "<a id=\"4\"></a>\n",
    "### Print Data File.\n",
    "- Use Python functions **print, len, type** to get more information about the content of the data file."
   ]
  },
  {
   "cell_type": "code",
   "execution_count": 0,
   "metadata": {
    "colab": {
     "base_uri": "https://localhost:8080/",
     "height": 1000
    },
    "colab_type": "code",
    "id": "Yxte7TjDC08r",
    "outputId": "f6f51db0-9402-479d-9986-6311025b3a0d"
   },
   "outputs": [
    {
     "name": "stdout",
     "output_type": "stream",
     "text": [
      "- The number of variables in the file:     30 \n",
      "\n",
      "\n",
      "- The file variables are loaded in:     xarray.core.dataset.Dataset \n",
      "\n",
      "\n",
      "- File Content:     \n",
      "\n",
      " <xarray.Dataset>\n",
      "Dimensions:                                  (obs: 20)\n",
      "Coordinates:\n",
      "  * obs                                      (obs) int32 0 1 2 3 ... 16 17 18 19\n",
      "Data variables:\n",
      "    time                                     (obs) datetime64[ns] ...\n",
      "    deployment                               (obs) int32 ...\n",
      "    id                                       (obs) |S36 ...\n",
      "    conductivity                             (obs) int32 ...\n",
      "    ctd_time                                 (obs) datetime64[ns] ...\n",
      "    driver_timestamp                         (obs) datetime64[ns] ...\n",
      "    inductive_id                             (obs) uint8 ...\n",
      "    ingestion_timestamp                      (obs) datetime64[ns] ...\n",
      "    internal_timestamp                       (obs) datetime64[ns] ...\n",
      "    port_timestamp                           (obs) datetime64[ns] ...\n",
      "    preferred_timestamp                      (obs) |S18 ...\n",
      "    pressure                                 (obs) int32 ...\n",
      "    provenance                               (obs) |S36 ...\n",
      "    sio_controller_timestamp                 (obs) datetime64[ns] ...\n",
      "    temperature                              (obs) int32 ...\n",
      "    ctdmo_seawater_pressure                  (obs) float64 ...\n",
      "    ctdmo_seawater_temperature               (obs) float64 ...\n",
      "    ctdmo_seawater_conductivity              (obs) float64 ...\n",
      "    practical_salinity                       (obs) float64 ...\n",
      "    density                                  (obs) float64 ...\n",
      "    ctdmo_seawater_pressure_qc_executed      (obs) uint8 ...\n",
      "    ctdmo_seawater_pressure_qc_results       (obs) uint8 ...\n",
      "    ctdmo_seawater_temperature_qc_executed   (obs) uint8 ...\n",
      "    ctdmo_seawater_temperature_qc_results    (obs) uint8 ...\n",
      "    ctdmo_seawater_conductivity_qc_executed  (obs) uint8 ...\n",
      "    ctdmo_seawater_conductivity_qc_results   (obs) uint8 ...\n",
      "    density_qc_executed                      (obs) uint8 ...\n",
      "    density_qc_results                       (obs) uint8 ...\n",
      "    practical_salinity_qc_executed           (obs) uint8 ...\n",
      "    practical_salinity_qc_results            (obs) uint8 ...\n",
      "Attributes:\n",
      "    node:                               RIM01\n",
      "    comment:                            \n",
      "    publisher_email:                    \n",
      "    sourceUrl:                          http://oceanobservatories.org/\n",
      "    collection_method:                  telemetered\n",
      "    stream:                             ctdmo_ghqr_sio_mule_instrument\n",
      "    featureType:                        point\n",
      "    creator_email:                      \n",
      "    publisher_name:                     Ocean Observatories Initiative\n",
      "    date_modified:                      2019-10-17T03:16:56.980560\n",
      "    keywords:                           \n",
      "    cdm_data_type:                      Point\n",
      "    references:                         More information can be found at http...\n",
      "    Metadata_Conventions:               Unidata Dataset Discovery v1.0\n",
      "    date_created:                       2019-10-17T03:16:56.980553\n",
      "    id:                                 GP03FLMB-RIM01-02-CTDMOG060-telemeter...\n",
      "    requestUUID:                        be8cec74-60c4-4df9-b09b-07063ebf642d\n",
      "    contributor_role:                   \n",
      "    summary:                            Dataset Generated by Stream Engine fr...\n",
      "    keywords_vocabulary:                \n",
      "    institution:                        Ocean Observatories Initiative\n",
      "    naming_authority:                   org.oceanobservatories\n",
      "    feature_Type:                       point\n",
      "    infoUrl:                            http://oceanobservatories.org/\n",
      "    license:                            \n",
      "    contributor_name:                   \n",
      "    uuid:                               be8cec74-60c4-4df9-b09b-07063ebf642d\n",
      "    creator_name:                       Ocean Observatories Initiative\n",
      "    title:                              Data produced by Stream Engine versio...\n",
      "    sensor:                             02-CTDMOG060\n",
      "    standard_name_vocabulary:           NetCDF Climate and Forecast (CF) Meta...\n",
      "    acknowledgement:                    \n",
      "    Conventions:                        CF-1.6\n",
      "    project:                            Ocean Observatories Initiative\n",
      "    source:                             GP03FLMB-RIM01-02-CTDMOG060-telemeter...\n",
      "    publisher_url:                      http://oceanobservatories.org/\n",
      "    creator_url:                        http://oceanobservatories.org/\n",
      "    nodc_template_version:              NODC_NetCDF_TimeSeries_Orthogonal_Tem...\n",
      "    subsite:                            GP03FLMB\n",
      "    processing_level:                   L2\n",
      "    history:                            2019-10-17T03:16:56.980480 generated ...\n",
      "    Manufacturer:                       Sea-Bird Electronics\n",
      "    ModelNumber:                        SBE 37-IM\n",
      "    SerialNumber:                       37-11638\n",
      "    Description:                        CTD Mooring (Inductive): CTDMO Series G\n",
      "    FirmwareVersion:                    Not specified.\n",
      "    SoftwareVersion:                    Not specified.\n",
      "    AssetUniqueID:                      CGINS-CTDMOG-11638\n",
      "    Notes:                              Not specified.\n",
      "    Owner:                              Woods Hole Oceanographic Institution\n",
      "    RemoteResources:                    []\n",
      "    ShelfLifeExpirationDate:            Not specified.\n",
      "    Mobile:                             False\n",
      "    AssetManagementRecordLastModified:  2019-10-07T17:45:44.075000\n",
      "    time_coverage_start:                2016-10-08T08:00:01\n",
      "    time_coverage_end:                  2016-10-30T12:00:01\n",
      "    time_coverage_resolution:           P95760.00S\n",
      "    geospatial_lat_min:                 50.32925\n",
      "    geospatial_lat_max:                 50.32925\n",
      "    geospatial_lat_units:               degrees_north\n",
      "    geospatial_lat_resolution:          0.1\n",
      "    geospatial_lon_min:                 -144.398\n",
      "    geospatial_lon_max:                 -144.398\n",
      "    geospatial_lon_units:               degrees_east\n",
      "    geospatial_lon_resolution:          0.1\n",
      "    geospatial_vertical_units:          meters\n",
      "    geospatial_vertical_resolution:     0.1\n",
      "    geospatial_vertical_positive:       down\n",
      "    lat:                                50.32925\n",
      "    lon:                                -144.398 \n",
      "\n",
      "\n"
     ]
    }
   ],
   "source": [
    "# Print the length of the file_content using the print and len functions\n",
    "\n",
    "print('- The number of variables in the file:    ', len(file_content), '\\n\\n')\n",
    "\n",
    "# Print the type of the file_content using the print and type functions\n",
    "\n",
    "print('- The file variables are loaded in:    ', type(file_content), '\\n\\n')\n",
    "\n",
    "# Print the content of the file\n",
    "\n",
    "print('- File Content:    ', '\\n\\n', file_content, '\\n\\n')\n"
   ]
  },
  {
   "cell_type": "markdown",
   "metadata": {
    "colab_type": "text",
    "id": "7vGHysCqC08u"
   },
   "source": [
    "<a id=\"5\"></a>\n",
    "### Data File Content."
   ]
  },
  {
   "cell_type": "markdown",
   "metadata": {
    "colab_type": "text",
    "id": "gwsX9JZBC08u"
   },
   "source": [
    "**Data File Elements:**\n",
    "The NetCDF files are organized as follow:\n",
    "- <font color=\"Purple\"> Dimensions: </font>\n",
    "   - Variables:  e.g., obs \n",
    "        - Parameters. e.g., values\n",
    "- <font color=\"Purple\"> Coordinates: </font>\n",
    "   - Variables:  e.g., obs\n",
    "        - Parameters.  e.g., values\n",
    "- <font color=\"Purple\"> Data variables: </font>\n",
    "   - Variables:  e.g., time\n",
    "        - Parameters. e.g., values, unit, long_name\n",
    "- <font color=\"Purple\"> Attributes: </font>\n",
    "   - Variables: e.g., node\n",
    "        - Parameters. e.g., information\n",
    "        \n",
    " \n",
    "\n",
    "\n",
    "> ###  _Metadata:_  \n",
    "- [x] <font color=\"blue\">   Metadata exists in any of the elements described above. The rest of the notebook will show how to access the metadata information. </font>\n"
   ]
  },
  {
   "cell_type": "markdown",
   "metadata": {
    "colab_type": "text",
    "id": "YFt8N-LvC08v"
   },
   "source": [
    "<a id=\"6\"></a>\n",
    "## Step 3. Extract File Elements Seperately.\n"
   ]
  },
  {
   "cell_type": "markdown",
   "metadata": {
    "colab_type": "text",
    "id": "7tCHohrAC08v"
   },
   "source": [
    "<a id=\"7\"></a>\n",
    "### Python Syntax:    \n",
    "**file_content.attributes** \n",
    "\n",
    "|  || ||\n",
    "| -  | -  | -  | -  |\n",
    "|<font color=\"blue\"> **syntax:** </font> | file_content   | .  |  _attributes_ |\n",
    "|**Description**|defined variable|dot |replace by file_content's attributes: <font color=\"Purple\"> coords, variables, dims </font> |\n",
    "\n"
   ]
  },
  {
   "cell_type": "markdown",
   "metadata": {
    "colab_type": "text",
    "id": "4oVjvZNaC08w"
   },
   "source": [
    "<a id=\"8\"></a>\n",
    "###  <font color=\"Purple\"> Dimensions.  </font> ( .dims)"
   ]
  },
  {
   "cell_type": "code",
   "execution_count": 0,
   "metadata": {
    "colab": {
     "base_uri": "https://localhost:8080/",
     "height": 170
    },
    "colab_type": "code",
    "id": "r2bdeGPVC08w",
    "outputId": "89446cc9-e997-4468-be82-5409a30a25e8"
   },
   "outputs": [
    {
     "name": "stdout",
     "output_type": "stream",
     "text": [
      "- The number of variables in Dimensions:     1 \n",
      "\n",
      "\n",
      "- Dimensions is loaded in:     xarray.core.utils.Frozen \n",
      "\n",
      "\n",
      "- Dimensions content:     Frozen(SortedKeysDict({'obs': 20})) \n",
      "\n",
      "\n"
     ]
    }
   ],
   "source": [
    "print('- The number of variables in Dimensions:    ', len(file_content.dims), '\\n\\n')\n",
    "\n",
    "print('- Dimensions is loaded in:    ', type(file_content.dims), '\\n\\n')\n",
    "\n",
    "print('- Dimensions content:    ', file_content.dims, '\\n\\n')\n"
   ]
  },
  {
   "cell_type": "markdown",
   "metadata": {
    "colab_type": "text",
    "id": "zkFOXOOnC08z"
   },
   "source": [
    "<a id=\"9\"></a>\n",
    "##### Explore Dimensions variables. ( .dims[ ])\n",
    "- Set **dims_var** to one of the variables stored in Dimensions.\n",
    "- Get the variable name from the output of the previous cell.\n",
    "- Use the following syntax: **file_content.dims[dims_var]**\n",
    "\n",
    "|syntax|description|\n",
    "|-| -|\n",
    "| file_content | the variable previously defined   |\n",
    "| | |\n",
    "|   .  | dot|\n",
    "| | |\n",
    "| dims| attributes of file_content |\n",
    "| | |\n",
    "| [dims_var] | variable name between brackets |\n",
    "\n",
    "- If the Dimensions content is not empty print its content."
   ]
  },
  {
   "cell_type": "code",
   "execution_count": 0,
   "metadata": {
    "colab": {},
    "colab_type": "code",
    "id": "LTjrPl_wC08z",
    "outputId": "b96d9a0a-69fb-4735-cd7a-4385bbedcb3c"
   },
   "outputs": [
    {
     "name": "stdout",
     "output_type": "stream",
     "text": [
      "obs :     20 \n",
      "\n",
      "\n"
     ]
    }
   ],
   "source": [
    "# define dims_var\n",
    "dims_var = 'obs'\n",
    "\n",
    "# Print the content of dims_var\n",
    "\n",
    "if file_content.dims:\n",
    "    print(dims_var, ':    ', file_content.dims[dims_var], '\\n\\n')"
   ]
  },
  {
   "cell_type": "markdown",
   "metadata": {
    "colab_type": "text",
    "id": "FZW3924RC083"
   },
   "source": [
    "\n",
    "> ###  _Metadata:_ \n",
    "- [x] <font color=\"Blue\"> We expect to have 20 data points for each parameter measured. </font> \n"
   ]
  },
  {
   "cell_type": "markdown",
   "metadata": {
    "colab_type": "text",
    "id": "1xK1tT14C083"
   },
   "source": [
    "<a id=\"10\"></a>\n",
    "### <font color=\"Purple\"> Coordinates. </font> (   .coords)"
   ]
  },
  {
   "cell_type": "code",
   "execution_count": 0,
   "metadata": {
    "colab": {
     "base_uri": "https://localhost:8080/",
     "height": 221
    },
    "colab_type": "code",
    "id": "8_WY2XdGC084",
    "outputId": "05e1abc0-45d1-4fcb-c78e-834bab99ee14"
   },
   "outputs": [
    {
     "name": "stdout",
     "output_type": "stream",
     "text": [
      "- The number of parameters in Coordinates:     1 \n",
      "\n",
      "\n",
      "- Coordinates is loaded in:     xarray.core.coordinates.DatasetCoordinates \n",
      "\n",
      "\n",
      "- Coordinates content:     \n",
      "\n",
      " Coordinates:\n",
      "  * obs      (obs) int32 0 1 2 3 4 5 6 7 8 9 10 11 12 13 14 15 16 17 18 19 \n",
      "\n",
      "\n"
     ]
    }
   ],
   "source": [
    "print('- The number of parameters in Coordinates:    ', len(file_content.coords), '\\n\\n')\n",
    "\n",
    "print('- Coordinates is loaded in:    ', type(file_content.coords), '\\n\\n')\n",
    "\n",
    "print('- Coordinates content:    ', '\\n\\n', file_content.coords, '\\n\\n')"
   ]
  },
  {
   "cell_type": "markdown",
   "metadata": {
    "colab_type": "text",
    "id": "OqsLS8WYC087"
   },
   "source": [
    "<a id=\"11\"></a>\n",
    "##### Explore Coordinates variables. ( .coords[ ].values or (.attrs .dims .coords)   )\n",
    "\n",
    "- Set **coord_var** to one of the variables stored Coordinates.\n",
    "- Get the variable name from the output of the previous cell.\n",
    "- Use the variable attributes to extract the parameters' content: **values, attrs, dims, coord**\n",
    "- The syntax to use is:\n",
    "\n",
    "|syntax|description|\n",
    "|-| -|\n",
    "| file_content | defined variable  |\n",
    "| | |\n",
    "|   .  | dot|\n",
    "| | |\n",
    "| coords| file_content' attributes |\n",
    "| | |\n",
    "| [coord_var] | variable name between brackets  |\n",
    "| | |\n",
    "|   .  | dot|\n",
    "| | |\n",
    "| values, attrs, dims, coords| coord_var' attributes |\n",
    "\n",
    "- If the Coordinates array is not empty print its content."
   ]
  },
  {
   "cell_type": "code",
   "execution_count": 0,
   "metadata": {
    "colab": {
     "base_uri": "https://localhost:8080/",
     "height": 374
    },
    "colab_type": "code",
    "id": "gH5Lc7khC087",
    "outputId": "d669042f-d669-4df9-ed04-6c382873d1f8"
   },
   "outputs": [
    {
     "name": "stdout",
     "output_type": "stream",
     "text": [
      "obs values:     \n",
      "\n",
      " [ 0  1  2  3  4  5  6  7  8  9 10 11 12 13 14 15 16 17 18 19] \n",
      "\n",
      "\n",
      "obs attributes:     \n",
      "\n",
      " {} \n",
      "\n",
      "\n",
      "obs dimensions:     \n",
      "\n",
      " ('obs',) \n",
      "\n",
      "\n",
      "obs coordinates:     \n",
      "\n",
      " Coordinates:\n",
      "  * obs      (obs) int32 0 1 2 3 4 5 6 7 8 9 10 11 12 13 14 15 16 17 18 19 \n",
      "\n",
      "\n"
     ]
    }
   ],
   "source": [
    "# define coord_var\n",
    "coord_var = 'obs'\n",
    "\n",
    "# Print content of coord_var\n",
    "if file_content.coords:    \n",
    "    print(str(coord_var),'values:    ', '\\n\\n', file_content.coords[coord_var].values, '\\n\\n')\n",
    "    print(str(coord_var),'attributes:    ', '\\n\\n', file_content.coords[coord_var].attrs, '\\n\\n')\n",
    "    print(str(coord_var),'dimensions:    ', '\\n\\n', file_content.coords[coord_var].dims, '\\n\\n')\n",
    "    print(str(coord_var),'coordinates:    ', '\\n\\n', file_content.coords[coord_var].coords, '\\n\\n')"
   ]
  },
  {
   "cell_type": "markdown",
   "metadata": {
    "colab_type": "text",
    "id": "uslaiVeeC08-"
   },
   "source": [
    "\n",
    "> ###  _Metadata:_  \n",
    "- [x] <font color=\"Blue\"> The coordinates are set as an array of. The sequence numbers of observations are used as labels for the data points in the observation array. </font> "
   ]
  },
  {
   "cell_type": "markdown",
   "metadata": {
    "colab_type": "text",
    "id": "ltqtWxvrC08-"
   },
   "source": [
    "<a id=\"12\"></a>\n",
    "### <font color=\"Purple\"> Data Variables.  </font> (  .variables)"
   ]
  },
  {
   "cell_type": "code",
   "execution_count": 0,
   "metadata": {
    "colab": {
     "base_uri": "https://localhost:8080/",
     "height": 1000
    },
    "colab_type": "code",
    "id": "x7nU92QUC08_",
    "outputId": "69285983-a349-44c7-c690-89fa9a2862dc"
   },
   "outputs": [
    {
     "name": "stdout",
     "output_type": "stream",
     "text": [
      "- The number of parameters in Data variables:     31 \n",
      "\n",
      "\n",
      "- Data variables is loaded in:     xarray.core.utils.Frozen \n",
      "\n",
      "\n",
      "- Data variables content:     \n",
      "\n",
      " Frozen({'obs': <xarray.IndexVariable 'obs' (obs: 20)>\n",
      "array([ 0,  1,  2,  3,  4,  5,  6,  7,  8,  9, 10, 11, 12, 13, 14, 15, 16, 17,\n",
      "       18, 19], dtype=int32), 'time': <xarray.Variable (obs: 20)>\n",
      "array(['2016-10-08T08:00:01.000000000', '2016-10-08T12:00:01.000000000',\n",
      "       '2016-10-19T00:00:01.000000000', '2016-10-19T04:00:01.000000000',\n",
      "       '2016-10-19T08:00:01.000000000', '2016-10-19T12:00:01.000000000',\n",
      "       '2016-10-20T00:00:01.000000000', '2016-10-20T04:00:01.000000000',\n",
      "       '2016-10-20T08:00:01.000000000', '2016-10-20T12:00:01.000000000',\n",
      "       '2016-10-20T16:00:01.000000000', '2016-10-25T12:00:01.000000000',\n",
      "       '2016-10-25T16:00:01.000000000', '2016-10-25T20:00:01.000000000',\n",
      "       '2016-10-26T00:00:01.000000000', '2016-10-26T04:00:01.000000000',\n",
      "       '2016-10-26T08:00:01.000000000', '2016-10-26T12:00:01.000000000',\n",
      "       '2016-10-28T16:00:01.000000000', '2016-10-30T12:00:01.000000000'],\n",
      "      dtype='datetime64[ns]')\n",
      "Attributes:\n",
      "    _FillValue:     -9999999.0\n",
      "    long_name:      time\n",
      "    standard_name:  time\n",
      "    axis:           T, 'deployment': <xarray.Variable (obs: 20)>\n",
      "array([4, 4, 4, 4, 4, 4, 4, 4, 4, 4, 4, 4, 4, 4, 4, 4, 4, 4, 4, 4], dtype=int32)\n",
      "Attributes:\n",
      "    name:     deployment, 'id': <xarray.Variable (obs: 20)>\n",
      "array([b'598fda88-6afd-4e28-a2e8-0bb6b32e5d1f',\n",
      "       b'2f32bbe3-be66-4d31-9840-05e9d796191c',\n",
      "       b'aed47ff8-9621-4e2d-b15d-73a9b8507f2c',\n",
      "       b'33a8be8c-6fb3-4bd2-8c26-0db6239936c7',\n",
      "       b'c9448978-89e3-4e55-9620-d2738bc954b6',\n",
      "       b'85bf30e0-dc7c-4af0-bb78-958fc9775ab8',\n",
      "       b'ba6068ec-4d71-4607-b7c6-ef69124646ab',\n",
      "       b'f3e90265-dc85-4842-8e8f-904ed23b6233',\n",
      "       b'66763138-21f9-45f7-8e6f-c14d9c4c7193',\n",
      "       b'd4719a9f-6633-41e4-8918-732dafea8f88',\n",
      "       b'9b7e38d8-b9ac-4aa0-8a70-8117d8ef46fb',\n",
      "       b'a9a9fc80-d9a9-41f9-a197-b00b59c35428',\n",
      "       b'0829164a-2d7f-4935-9320-e5ddea08c5c7',\n",
      "       b'a0fee75f-0788-4db2-a32d-c75437e62e0a',\n",
      "       b'b5669c8a-5d3c-41f6-bdab-8faac6c4b67c',\n",
      "       b'0c75b66c-b69a-4201-a64b-c2c8a037cbb9',\n",
      "       b'5f6654bc-df89-4f69-86ab-576b0b5d2419',\n",
      "       b'160cb376-00a9-4d3d-9629-eb013f584e67',\n",
      "       b'92d6b2a6-98da-4f1f-b703-acd3f4b94086',\n",
      "       b'bfbc0830-21e1-4c4d-981d-59f614e126e6'], dtype='|S36')\n",
      "Attributes:\n",
      "    name:     id, 'conductivity': <xarray.Variable (obs: 20)>\n",
      "array([397190, 442412, 397721, 431080, 430788, 397555, 428661, 431041, 430615,\n",
      "       399226, 430196, 424569, 424325, 424109, 424171, 423781, 423352, 403201,\n",
      "       408710, 420491], dtype=int32)\n",
      "Attributes:\n",
      "    _FillValue:               -9999999\n",
      "    comment:                  Seawater conductivity refers to the ability of ...\n",
      "    long_name:                Seawater Conductivity Measurement\n",
      "    precision:                0\n",
      "    coordinates:              time lat lon pressure\n",
      "    data_product_identifier:  CONDWAT_L0\n",
      "    units:                    counts, 'ctd_time': <xarray.Variable (obs: 20)>\n",
      "array(['2016-10-08T08:00:01.000000000', '2016-10-08T12:00:01.000000000',\n",
      "       '2016-10-19T00:00:01.000000000', '2016-10-19T04:00:01.000000000',\n",
      "       '2016-10-19T08:00:01.000000000', '2016-10-19T12:00:01.000000000',\n",
      "       '2016-10-20T00:00:01.000000000', '2016-10-20T04:00:01.000000000',\n",
      "       '2016-10-20T08:00:01.000000000', '2016-10-20T12:00:01.000000000',\n",
      "       '2016-10-20T16:00:01.000000000', '2016-10-25T12:00:01.000000000',\n",
      "       '2016-10-25T16:00:01.000000000', '2016-10-25T20:00:01.000000000',\n",
      "       '2016-10-26T00:00:01.000000000', '2016-10-26T04:00:01.000000000',\n",
      "       '2016-10-26T08:00:01.000000000', '2016-10-26T12:00:01.000000000',\n",
      "       '2016-10-28T16:00:01.000000000', '2016-10-30T12:00:01.000000000'],\n",
      "      dtype='datetime64[ns]')\n",
      "Attributes:\n",
      "    _FillValue:   -9999999\n",
      "    comment:      Time in seconds since 2000-01-01.\n",
      "    precision:    0\n",
      "    coordinates:  time lat lon pressure\n",
      "    long_name:    Time, UTC, 'driver_timestamp': <xarray.Variable (obs: 20)>\n",
      "array(['2017-12-19T15:21:57.037543424', '2017-12-19T15:21:57.038330880',\n",
      "       '2017-12-19T15:21:56.883463680', '2017-12-19T15:21:56.884114432',\n",
      "       '2017-12-19T15:21:56.884815360', '2017-12-19T15:21:56.885552128',\n",
      "       '2017-12-19T15:21:56.538343936', '2017-12-19T15:21:55.836384768',\n",
      "       '2017-12-19T15:21:55.527617024', '2017-12-19T15:21:55.274754048',\n",
      "       '2017-12-19T15:21:55.837137920', '2017-12-19T15:21:56.691978752',\n",
      "       '2017-12-19T15:21:56.539022848', '2017-12-19T15:21:56.539871232',\n",
      "       '2017-12-19T15:21:56.540676096', '2017-12-19T15:21:56.541289472',\n",
      "       '2017-12-19T15:21:56.542075392', '2017-12-19T15:21:57.038876160',\n",
      "       '2017-12-19T15:21:57.348399104', '2017-12-19T15:21:57.350188032'],\n",
      "      dtype='datetime64[ns]')\n",
      "Attributes:\n",
      "    _FillValue:   -9999999.0\n",
      "    comment:      Driver timestamp, UTC\n",
      "    coordinates:  time lat lon pressure\n",
      "    long_name:    Driver Timestamp, UTC, 'inductive_id': <xarray.Variable (obs: 20)>\n",
      "array([60, 60, 60, 60, 60, 60, 60, 60, 60, 60, 60, 60, 60, 60, 60, 60, 60, 60,\n",
      "       60, 60], dtype=uint8)\n",
      "Attributes:\n",
      "    _FillValue:   0\n",
      "    comment:      Inductive id used to distinguish devices using inductive co...\n",
      "    precision:    0\n",
      "    coordinates:  time lat lon pressure\n",
      "    long_name:    Inductive ID\n",
      "    units:        1, 'ingestion_timestamp': <xarray.Variable (obs: 20)>\n",
      "array(['2017-12-19T15:22:03.769999872', '2017-12-19T15:22:03.772999680',\n",
      "       '2017-12-19T15:22:03.512000000', '2017-12-19T15:22:03.517000192',\n",
      "       '2017-12-19T15:22:03.522999808', '2017-12-19T15:22:03.525000192',\n",
      "       '2017-12-19T15:22:03.067999744', '2017-12-19T15:22:01.624000000',\n",
      "       '2017-12-19T15:22:00.913999872', '2017-12-19T15:22:00.258999808',\n",
      "       '2017-12-19T15:22:01.628000256', '2017-12-19T15:22:03.293999616',\n",
      "       '2017-12-19T15:22:03.071000064', '2017-12-19T15:22:03.074999808',\n",
      "       '2017-12-19T15:22:03.081000448', '2017-12-19T15:22:03.107999744',\n",
      "       '2017-12-19T15:22:03.114000384', '2017-12-19T15:22:03.776999936',\n",
      "       '2017-12-19T15:22:04.121000448', '2017-12-19T15:22:04.125000192'],\n",
      "      dtype='datetime64[ns]')\n",
      "Attributes:\n",
      "    _FillValue:   -9999.0\n",
      "    comment:      The NTP Timestamp for when the granule was ingested\n",
      "    coordinates:  time lat lon pressure\n",
      "    long_name:    Ingestion Timestamp, UTC, 'internal_timestamp': <xarray.Variable (obs: 20)>\n",
      "array(['2016-10-08T08:00:01.000000000', '2016-10-08T12:00:01.000000000',\n",
      "       '2016-10-19T00:00:01.000000000', '2016-10-19T04:00:01.000000000',\n",
      "       '2016-10-19T08:00:01.000000000', '2016-10-19T12:00:01.000000000',\n",
      "       '2016-10-20T00:00:01.000000000', '2016-10-20T04:00:01.000000000',\n",
      "       '2016-10-20T08:00:01.000000000', '2016-10-20T12:00:01.000000000',\n",
      "       '2016-10-20T16:00:01.000000000', '2016-10-25T12:00:01.000000000',\n",
      "       '2016-10-25T16:00:01.000000000', '2016-10-25T20:00:01.000000000',\n",
      "       '2016-10-26T00:00:01.000000000', '2016-10-26T04:00:01.000000000',\n",
      "       '2016-10-26T08:00:01.000000000', '2016-10-26T12:00:01.000000000',\n",
      "       '2016-10-28T16:00:01.000000000', '2016-10-30T12:00:01.000000000'],\n",
      "      dtype='datetime64[ns]')\n",
      "Attributes:\n",
      "    _FillValue:   -9999999.0\n",
      "    comment:      Internal timestamp, UTC\n",
      "    coordinates:  time lat lon pressure\n",
      "    long_name:    Internal Timestamp, UTC, 'port_timestamp': <xarray.Variable (obs: 20)>\n",
      "array(['1900-01-01T00:00:00.000000000', '1900-01-01T00:00:00.000000000',\n",
      "       '1900-01-01T00:00:00.000000000', '1900-01-01T00:00:00.000000000',\n",
      "       '1900-01-01T00:00:00.000000000', '1900-01-01T00:00:00.000000000',\n",
      "       '1900-01-01T00:00:00.000000000', '1900-01-01T00:00:00.000000000',\n",
      "       '1900-01-01T00:00:00.000000000', '1900-01-01T00:00:00.000000000',\n",
      "       '1900-01-01T00:00:00.000000000', '1900-01-01T00:00:00.000000000',\n",
      "       '1900-01-01T00:00:00.000000000', '1900-01-01T00:00:00.000000000',\n",
      "       '1900-01-01T00:00:00.000000000', '1900-01-01T00:00:00.000000000',\n",
      "       '1900-01-01T00:00:00.000000000', '1900-01-01T00:00:00.000000000',\n",
      "       '1900-01-01T00:00:00.000000000', '1900-01-01T00:00:00.000000000'],\n",
      "      dtype='datetime64[ns]')\n",
      "Attributes:\n",
      "    _FillValue:   -9999999.0\n",
      "    comment:      Port timestamp, UTC\n",
      "    coordinates:  time lat lon pressure\n",
      "    long_name:    Port Timestamp, UTC, 'preferred_timestamp': <xarray.Variable (obs: 20)>\n",
      "array([b'internal_timestamp', b'internal_timestamp', b'internal_timestamp',\n",
      "       b'internal_timestamp', b'internal_timestamp', b'internal_timestamp',\n",
      "       b'internal_timestamp', b'internal_timestamp', b'internal_timestamp',\n",
      "       b'internal_timestamp', b'internal_timestamp', b'internal_timestamp',\n",
      "       b'internal_timestamp', b'internal_timestamp', b'internal_timestamp',\n",
      "       b'internal_timestamp', b'internal_timestamp', b'internal_timestamp',\n",
      "       b'internal_timestamp', b'internal_timestamp'], dtype='|S18')\n",
      "Attributes:\n",
      "    _FillValue:   b'e'\n",
      "    comment:      Timestamp preferred as official record.\n",
      "    units:        1\n",
      "    coordinates:  time lat lon pressure\n",
      "    long_name:    Preferred Timestamp, 'pressure': <xarray.Variable (obs: 20)>\n",
      "array([4873, 4931, 4957, 4835, 4879, 4972, 4968, 4841, 4841, 4940, 4962, 4811,\n",
      "       4925, 4884, 4922, 4922, 4943, 4833, 4871, 4905], dtype=int32)\n",
      "Attributes:\n",
      "    _FillValue:               -9999999\n",
      "    comment:                  Seawater Pressure refers to the pressure exerte...\n",
      "    long_name:                Seawater Pressure Measurement\n",
      "    precision:                0\n",
      "    data_product_identifier:  PRESWAT_L0\n",
      "    units:                    counts\n",
      "    axis:                     Z, 'provenance': <xarray.Variable (obs: 20)>\n",
      "array([b'3b9ceff7-1141-47f6-b9e9-2bce2c4fa6b3',\n",
      "       b'3b9ceff7-1141-47f6-b9e9-2bce2c4fa6b3',\n",
      "       b'f96f69d4-bf0f-4e73-bdd6-b6063cf1e8b2',\n",
      "       b'f96f69d4-bf0f-4e73-bdd6-b6063cf1e8b2',\n",
      "       b'f96f69d4-bf0f-4e73-bdd6-b6063cf1e8b2',\n",
      "       b'f96f69d4-bf0f-4e73-bdd6-b6063cf1e8b2',\n",
      "       b'3042a438-7bf8-4088-acaf-c1a5444589ea',\n",
      "       b'4d61ccc5-b0cd-4ed8-832b-deee91ac8ecd',\n",
      "       b'837b429c-33c0-4a99-b8f7-faebc9939d08',\n",
      "       b'7d47a058-7107-49eb-9dae-5fd480ee2277',\n",
      "       b'4d61ccc5-b0cd-4ed8-832b-deee91ac8ecd',\n",
      "       b'f2fdde66-63db-4607-bb45-714b448562f1',\n",
      "       b'3042a438-7bf8-4088-acaf-c1a5444589ea',\n",
      "       b'3042a438-7bf8-4088-acaf-c1a5444589ea',\n",
      "       b'3042a438-7bf8-4088-acaf-c1a5444589ea',\n",
      "       b'3042a438-7bf8-4088-acaf-c1a5444589ea',\n",
      "       b'3042a438-7bf8-4088-acaf-c1a5444589ea',\n",
      "       b'3b9ceff7-1141-47f6-b9e9-2bce2c4fa6b3',\n",
      "       b'214c5fd0-507d-433b-b64e-43b6ffa29f3f',\n",
      "       b'214c5fd0-507d-433b-b64e-43b6ffa29f3f'], dtype='|S36')\n",
      "Attributes:\n",
      "    name:         provenance\n",
      "    coordinates:  time lat lon pressure, 'sio_controller_timestamp': <xarray.Variable (obs: 20)>\n",
      "array(['2016-10-08T12:07:20.000000000', '2016-10-08T16:07:19.000000000',\n",
      "       '2016-10-19T04:07:20.000000000', '2016-10-19T08:07:19.000000000',\n",
      "       '2016-10-19T12:07:20.000000000', '2016-10-19T16:07:19.000000000',\n",
      "       '2016-10-20T04:07:20.000000000', '2016-10-20T08:07:19.000000000',\n",
      "       '2016-10-20T12:07:20.000000000', '2016-10-20T16:07:19.000000000',\n",
      "       '2016-10-20T20:07:20.000000000', '2016-10-25T16:07:19.000000000',\n",
      "       '2016-10-25T20:07:20.000000000', '2016-10-26T00:07:19.000000000',\n",
      "       '2016-10-26T04:07:20.000000000', '2016-10-26T08:07:19.000000000',\n",
      "       '2016-10-26T12:07:20.000000000', '2016-10-26T16:07:19.000000000',\n",
      "       '2016-10-28T20:07:20.000000000', '2016-10-30T16:07:19.000000000'],\n",
      "      dtype='datetime64[ns]')\n",
      "Attributes:\n",
      "    _FillValue:   9999999\n",
      "    comment:      sio controller timestamp, seconds since 1970-01-01\n",
      "    coordinates:  time lat lon pressure\n",
      "    long_name:    SIO Controller Time, 'temperature': <xarray.Variable (obs: 20)>\n",
      "array([190588, 238965, 196272, 226870, 226541, 186872, 225630, 227213, 226823,\n",
      "       188281, 226229, 220177, 219794, 219456, 219543, 219077, 218676, 195684,\n",
      "       202063, 215955], dtype=int32)\n",
      "Attributes:\n",
      "    _FillValue:               -9999999\n",
      "    comment:                  Seawater temperature unprocessed measurement ne...\n",
      "    long_name:                Seawater Temperature Measurement\n",
      "    precision:                0\n",
      "    coordinates:              time lat lon pressure\n",
      "    data_product_identifier:  TEMPWAT_L0\n",
      "    units:                    counts, 'ctdmo_seawater_pressure': <xarray.Variable (obs: 20)>\n",
      "array([37.088139, 38.118503, 38.580391, 36.413073, 37.194729, 38.846864,\n",
      "       38.775805, 36.519662, 36.519662, 38.278388, 38.669215, 35.986715,\n",
      "       38.011914, 37.283553, 37.958619, 37.958619, 38.331682, 36.377543,\n",
      "       37.052609, 37.656616])\n",
      "Attributes:\n",
      "    _FillValue:               -9999.0\n",
      "    comment:                  Seawater Pressure refers to the pressure exerte...\n",
      "    long_name:                Seawater Pressure\n",
      "    coordinates:              time lat lon pressure\n",
      "    data_product_identifier:  PRESWAT_L1\n",
      "    standard_name:            sea_water_pressure\n",
      "    units:                    dbar\n",
      "    ancillary_variables:      pressure, 'ctdmo_seawater_temperature': <xarray.Variable (obs: 20)>\n",
      "array([ 9.0588, 13.8965,  9.6272, 12.687 , 12.6541,  8.6872, 12.563 , 12.7213,\n",
      "       12.6823,  8.8281, 12.6229, 12.0177, 11.9794, 11.9456, 11.9543, 11.9077,\n",
      "       11.8676,  9.5684, 10.2063, 11.5955])\n",
      "Attributes:\n",
      "    _FillValue:               -9999999.0\n",
      "    comment:                  Seawater temperature near the sensor.\n",
      "    long_name:                Seawater Temperature\n",
      "    precision:                4\n",
      "    coordinates:              time lat lon pressure\n",
      "    data_product_identifier:  TEMPWAT_L1\n",
      "    standard_name:            sea_water_temperature\n",
      "    units:                    ºC\n",
      "    ancillary_variables:      temperature, 'ctdmo_seawater_conductivity': <xarray.Variable (obs: 20)>\n",
      "array([3.4719 , 3.92412, 3.47721, 3.8108 , 3.80788, 3.47555, 3.78661, 3.81041,\n",
      "       3.80615, 3.49226, 3.80196, 3.74569, 3.74325, 3.74109, 3.74171, 3.73781,\n",
      "       3.73352, 3.53201, 3.5871 , 3.70491])\n",
      "Attributes:\n",
      "    _FillValue:               -9999999.0\n",
      "    comment:                  Seawater conductivity refers to the ability of ...\n",
      "    long_name:                Seawater Conductivity\n",
      "    precision:                4\n",
      "    coordinates:              time lat lon pressure\n",
      "    data_product_identifier:  CONDWAT_L1\n",
      "    standard_name:            sea_water_electrical_conductivity\n",
      "    units:                    S m-1\n",
      "    ancillary_variables:      conductivity, 'practical_salinity': <xarray.Variable (obs: 20)>\n",
      "array([32.395352, 32.570401, 31.93807 , 32.542942, 32.543252, 32.773768,\n",
      "       32.418608, 32.509608, 32.502735, 32.818289, 32.513236, 32.499524,\n",
      "       32.508491, 32.517385, 32.515513, 32.51844 , 32.511746, 32.551839,\n",
      "       32.5358  , 32.471916])\n",
      "Attributes:\n",
      "    _FillValue:               -9999999.0\n",
      "    comment:                  Salinity is generally defined as the concentrat...\n",
      "    long_name:                Practical Salinity\n",
      "    precision:                4\n",
      "    coordinates:              time lat lon pressure\n",
      "    data_product_identifier:  PRACSAL_L2\n",
      "    standard_name:            sea_water_practical_salinity\n",
      "    units:                    1\n",
      "    ancillary_variables:      pressure,conductivity,temperature, 'density': <xarray.Variable (obs: 20)>\n",
      "array([1025.243494, 1024.508358, 1024.802892, 1024.720546, 1024.730674,\n",
      "       1025.605118, 1024.658815, 1024.688577, 1024.690799, 1025.615705,\n",
      "       1024.720106, 1024.812163, 1024.835434, 1024.845328, 1024.845315,\n",
      "       1024.856248, 1024.86018 , 1025.281591, 1025.166876, 1024.876218])\n",
      "Attributes:\n",
      "    _FillValue:               -9999999.0\n",
      "    comment:                  Seawater Density is defined as mass per unit vo...\n",
      "    long_name:                Seawater Density\n",
      "    precision:                3\n",
      "    coordinates:              time lat lon pressure\n",
      "    data_product_identifier:  DENSITY_L2\n",
      "    standard_name:            sea_water_density\n",
      "    units:                    kg m-3\n",
      "    ancillary_variables:      pressure,practical_salinity,temperature, 'ctdmo_seawater_pressure_qc_executed': <xarray.Variable (obs: 20)>\n",
      "array([29, 29, 29, 29, 29, 29, 29, 29, 29, 29, 29, 29, 29, 29, 29, 29, 29, 29,\n",
      "       29, 29], dtype=uint8)\n",
      "Attributes:\n",
      "    coordinates:  time lat lon pressure, 'ctdmo_seawater_pressure_qc_results': <xarray.Variable (obs: 20)>\n",
      "array([ 5,  5, 13, 13, 13, 13, 13, 13, 13, 13, 13, 13, 13, 13, 13, 13, 13, 13,\n",
      "       13, 13], dtype=uint8)\n",
      "Attributes:\n",
      "    coordinates:  time lat lon pressure, 'ctdmo_seawater_temperature_qc_executed': <xarray.Variable (obs: 20)>\n",
      "array([29, 29, 29, 29, 29, 29, 29, 29, 29, 29, 29, 29, 29, 29, 29, 29, 29, 29,\n",
      "       29, 29], dtype=uint8)\n",
      "Attributes:\n",
      "    coordinates:  time lat lon pressure, 'ctdmo_seawater_temperature_qc_results': <xarray.Variable (obs: 20)>\n",
      "array([ 5,  5, 13, 13, 13, 13, 13, 13, 13, 13, 13, 13, 13, 13, 13, 13, 13, 13,\n",
      "       13, 13], dtype=uint8)\n",
      "Attributes:\n",
      "    coordinates:  time lat lon pressure, 'ctdmo_seawater_conductivity_qc_executed': <xarray.Variable (obs: 20)>\n",
      "array([29, 29, 29, 29, 29, 29, 29, 29, 29, 29, 29, 29, 29, 29, 29, 29, 29, 29,\n",
      "       29, 29], dtype=uint8)\n",
      "Attributes:\n",
      "    coordinates:  time lat lon pressure, 'ctdmo_seawater_conductivity_qc_results': <xarray.Variable (obs: 20)>\n",
      "array([ 5,  5, 13, 13, 13, 13, 13, 13, 13, 13, 13, 13, 13, 13, 13, 13, 13, 13,\n",
      "       13, 13], dtype=uint8)\n",
      "Attributes:\n",
      "    coordinates:  time lat lon pressure, 'density_qc_executed': <xarray.Variable (obs: 20)>\n",
      "array([29, 29, 29, 29, 29, 29, 29, 29, 29, 29, 29, 29, 29, 29, 29, 29, 29, 29,\n",
      "       29, 29], dtype=uint8)\n",
      "Attributes:\n",
      "    coordinates:  time lat lon pressure, 'density_qc_results': <xarray.Variable (obs: 20)>\n",
      "array([ 5,  5, 13, 13, 13, 13, 13, 13, 13, 13, 13, 13, 13, 13, 13, 13, 13, 13,\n",
      "       13, 13], dtype=uint8)\n",
      "Attributes:\n",
      "    coordinates:  time lat lon pressure, 'practical_salinity_qc_executed': <xarray.Variable (obs: 20)>\n",
      "array([29, 29, 29, 29, 29, 29, 29, 29, 29, 29, 29, 29, 29, 29, 29, 29, 29, 29,\n",
      "       29, 29], dtype=uint8)\n",
      "Attributes:\n",
      "    coordinates:  time lat lon pressure, 'practical_salinity_qc_results': <xarray.Variable (obs: 20)>\n",
      "array([ 5,  5, 13, 13, 13, 13, 13, 13, 13, 13, 13, 13, 13, 13, 13, 13, 13, 13,\n",
      "       13, 13], dtype=uint8)\n",
      "Attributes:\n",
      "    coordinates:  time lat lon pressure}) \n",
      "\n",
      "\n"
     ]
    }
   ],
   "source": [
    "print('- The number of parameters in Data variables:    ', len(file_content.variables), '\\n\\n')\n",
    "\n",
    "print('- Data variables is loaded in:    ', type(file_content.variables), '\\n\\n')\n",
    "\n",
    "print('- Data variables content:    ', '\\n\\n', file_content.variables, '\\n\\n')"
   ]
  },
  {
   "cell_type": "markdown",
   "metadata": {
    "colab_type": "text",
    "id": "yBiPSxYKC09C"
   },
   "source": [
    "<a id=\"13\"></a>\n",
    "##### Explore Data Variables. ( .variables[ ].values or ( .dims . attrs))\n",
    "\n",
    "- Set **data_var** to one of the variables stored in Data variables.\n",
    "- Get the variable name from the output of the previous cell.\n",
    "- Use the same syntax used for the Coordinates variables.\n",
    "- If the Data variables array is not empty print its content."
   ]
  },
  {
   "cell_type": "code",
   "execution_count": 0,
   "metadata": {
    "colab": {
     "base_uri": "https://localhost:8080/",
     "height": 309
    },
    "colab_type": "code",
    "id": "9EcDWUYxC09C",
    "outputId": "ce0b2ce3-08b9-42c4-84ca-476a02e6cb05"
   },
   "outputs": [
    {
     "name": "stdout",
     "output_type": "stream",
     "text": [
      "temperature values:     \n",
      "\n",
      " [190588 238965 196272 226870 226541 186872 225630 227213 226823 188281\n",
      " 226229 220177 219794 219456 219543 219077 218676 195684 202063 215955] \n",
      "\n",
      "\n",
      "temperature attributes:     \n",
      "\n",
      " {'_FillValue': -9999999, 'comment': 'Seawater temperature unprocessed measurement near the sensor.', 'long_name': 'Seawater Temperature Measurement', 'precision': 0, 'coordinates': 'time lat lon pressure', 'data_product_identifier': 'TEMPWAT_L0', 'units': 'counts'} \n",
      "\n",
      "\n",
      "temperature dimensions:     \n",
      "\n",
      " ('obs',) \n",
      "\n",
      "\n"
     ]
    }
   ],
   "source": [
    "# define data_var\n",
    "data_var = 'temperature' \n",
    "\n",
    "# Print content of data_var\n",
    "if file_content.coords:    \n",
    "    print(data_var,'values:    ', '\\n\\n', file_content.variables[data_var].values, '\\n\\n')\n",
    "    print(data_var,'attributes:    ', '\\n\\n', file_content.variables[data_var].attrs, '\\n\\n')\n",
    "    print(data_var,'dimensions:    ', '\\n\\n', file_content.variables[data_var].dims, '\\n\\n')"
   ]
  },
  {
   "cell_type": "markdown",
   "metadata": {
    "colab_type": "text",
    "id": "euKj9uNYC09F"
   },
   "source": [
    "<a id=\"14\"></a>\n",
    "##### Explore Data Variables Attributes. (  .variables[ ].attrs.keys( ))\n",
    "- More information about the data variables are listed in the variable attributes.\n",
    "- To list the attributes use .key() as follow:"
   ]
  },
  {
   "cell_type": "code",
   "execution_count": 0,
   "metadata": {
    "colab": {
     "base_uri": "https://localhost:8080/",
     "height": 34
    },
    "colab_type": "code",
    "id": "797xmlDLC09F",
    "outputId": "2d40d5cd-cbaf-48c3-8d38-688e35bfcdb2"
   },
   "outputs": [
    {
     "data": {
      "text/plain": [
       "dict_keys(['_FillValue', 'comment', 'long_name', 'precision', 'coordinates', 'data_product_identifier', 'units'])"
      ]
     },
     "execution_count": 31,
     "metadata": {
      "tags": []
     },
     "output_type": "execute_result"
    }
   ],
   "source": [
    "# get the attribute names of a variable.\n",
    "file_content.variables[data_var].attrs.keys()"
   ]
  },
  {
   "cell_type": "markdown",
   "metadata": {
    "colab_type": "text",
    "id": "CbLCwPZoC09I"
   },
   "source": [
    "<a id=\"14\"></a>\n",
    "##### Extract the Attributes Content. (.variables[ ].attrs[ ])\n",
    "- **Note:** The information is stored in a dictionary.\n",
    "- Select an attribute name from the output of the previous cell.\n",
    "- Set **data_var_attrs** to one of the attribute names.\n",
    "- Use the syntax below:\n",
    "\n",
    "|syntax|description|\n",
    "|-| -|\n",
    "| file_content | the variable previously defined   |\n",
    "| | |\n",
    "|   .  | dot|\n",
    "| | |\n",
    "| variables| attributes of file_content |\n",
    "| | |\n",
    "| [data_var] | variable name between brackets |\n",
    "| | |\n",
    "|   .  | dot|\n",
    "| | |\n",
    "| attrs| attributes of data_var |\n",
    "| | |\n",
    "| [data_var_attrs] | attribute key name between brackets |\n",
    "\n",
    "- If the attributes array is not empty print its content."
   ]
  },
  {
   "cell_type": "code",
   "execution_count": 0,
   "metadata": {
    "colab": {
     "base_uri": "https://localhost:8080/",
     "height": 102
    },
    "colab_type": "code",
    "id": "riAwf5TJC09I",
    "outputId": "2069410e-97d4-4c2f-c149-40fcbbfd3a0e"
   },
   "outputs": [
    {
     "name": "stdout",
     "output_type": "stream",
     "text": [
      "temperature comment :     \n",
      "\n",
      " Seawater temperature unprocessed measurement near the sensor. \n",
      "\n",
      "\n"
     ]
    }
   ],
   "source": [
    "# define data_var_attrs\n",
    "data_var_attrs = 'comment'\n",
    "\n",
    "# print content of data_var_attrs\n",
    "if file_content.variables[data_var].attrs:    \n",
    "    print(data_var, data_var_attrs,':    ', '\\n\\n', \\\n",
    "          file_content.variables[data_var].attrs[data_var_attrs],'\\n\\n')\n",
    "\n",
    "    "
   ]
  },
  {
   "cell_type": "markdown",
   "metadata": {
    "colab_type": "text",
    "id": "Xia4Eb7dC09L"
   },
   "source": [
    "\n",
    "> ###  _Metadata:_  \n",
    "- [x] <font color=\"Blue\"> The attribute comment gives more information about the variable temperature, such as the level of data processing (unprocessed) and the location of the measurement (near the sensor). </font> \n",
    "- [x] <font color=\"Blue\"> Note that more metadata is available in the other attributes (e.g. units, precision).   </font> \n"
   ]
  },
  {
   "cell_type": "markdown",
   "metadata": {
    "colab_type": "text",
    "id": "_1d5tJmgC09L"
   },
   "source": [
    "<a id=\"15\"></a>\n",
    "### <font color=\"Purple\"> Attributes.  </font> ( .attrs)\n",
    "- Attributes here refer to the rest of the metadata that is not specific to a data variable. "
   ]
  },
  {
   "cell_type": "code",
   "execution_count": 0,
   "metadata": {
    "colab": {
     "base_uri": "https://localhost:8080/",
     "height": 224
    },
    "colab_type": "code",
    "id": "-3TWxW3aC09M",
    "outputId": "1feb39ef-0f54-4db7-99a5-9d9b523faac4"
   },
   "outputs": [
    {
     "name": "stdout",
     "output_type": "stream",
     "text": [
      "- The number of variables in Attributes:     70 \n",
      "\n",
      "\n",
      "- Attributes is loaded in:     <class 'dict'> \n",
      "\n",
      "\n",
      "- Attributes content:     \n",
      "\n",
      " {'node': 'RIM01', 'comment': '', 'publisher_email': '', 'sourceUrl': 'http://oceanobservatories.org/', 'collection_method': 'telemetered', 'stream': 'ctdmo_ghqr_sio_mule_instrument', 'featureType': 'point', 'creator_email': '', 'publisher_name': 'Ocean Observatories Initiative', 'date_modified': '2019-10-17T03:16:56.980560', 'keywords': '', 'cdm_data_type': 'Point', 'references': 'More information can be found at http://oceanobservatories.org/', 'Metadata_Conventions': 'Unidata Dataset Discovery v1.0', 'date_created': '2019-10-17T03:16:56.980553', 'id': 'GP03FLMB-RIM01-02-CTDMOG060-telemetered-ctdmo_ghqr_sio_mule_instrument', 'requestUUID': 'be8cec74-60c4-4df9-b09b-07063ebf642d', 'contributor_role': '', 'summary': 'Dataset Generated by Stream Engine from Ocean Observatories Initiative', 'keywords_vocabulary': '', 'institution': 'Ocean Observatories Initiative', 'naming_authority': 'org.oceanobservatories', 'feature_Type': 'point', 'infoUrl': 'http://oceanobservatories.org/', 'license': '', 'contributor_name': '', 'uuid': 'be8cec74-60c4-4df9-b09b-07063ebf642d', 'creator_name': 'Ocean Observatories Initiative', 'title': 'Data produced by Stream Engine version 1.10.0 for GP03FLMB-RIM01-02-CTDMOG060-telemetered-ctdmo_ghqr_sio_mule_instrument', 'sensor': '02-CTDMOG060', 'standard_name_vocabulary': 'NetCDF Climate and Forecast (CF) Metadata Convention Standard Name Table 29', 'acknowledgement': '', 'Conventions': 'CF-1.6', 'project': 'Ocean Observatories Initiative', 'source': 'GP03FLMB-RIM01-02-CTDMOG060-telemetered-ctdmo_ghqr_sio_mule_instrument', 'publisher_url': 'http://oceanobservatories.org/', 'creator_url': 'http://oceanobservatories.org/', 'nodc_template_version': 'NODC_NetCDF_TimeSeries_Orthogonal_Template_v1.1', 'subsite': 'GP03FLMB', 'processing_level': 'L2', 'history': '2019-10-17T03:16:56.980480 generated from Stream Engine', 'Manufacturer': 'Sea-Bird Electronics', 'ModelNumber': 'SBE 37-IM', 'SerialNumber': '37-11638', 'Description': 'CTD Mooring (Inductive): CTDMO Series G', 'FirmwareVersion': 'Not specified.', 'SoftwareVersion': 'Not specified.', 'AssetUniqueID': 'CGINS-CTDMOG-11638', 'Notes': 'Not specified.', 'Owner': 'Woods Hole Oceanographic Institution', 'RemoteResources': '[]', 'ShelfLifeExpirationDate': 'Not specified.', 'Mobile': 'False', 'AssetManagementRecordLastModified': '2019-10-07T17:45:44.075000', 'time_coverage_start': '2016-10-08T08:00:01', 'time_coverage_end': '2016-10-30T12:00:01', 'time_coverage_resolution': 'P95760.00S', 'geospatial_lat_min': 50.32925, 'geospatial_lat_max': 50.32925, 'geospatial_lat_units': 'degrees_north', 'geospatial_lat_resolution': 0.1, 'geospatial_lon_min': -144.398, 'geospatial_lon_max': -144.398, 'geospatial_lon_units': 'degrees_east', 'geospatial_lon_resolution': 0.1, 'geospatial_vertical_units': 'meters', 'geospatial_vertical_resolution': 0.1, 'geospatial_vertical_positive': 'down', 'lat': 50.32925, 'lon': -144.398} \n",
      "\n",
      "\n"
     ]
    }
   ],
   "source": [
    "print('- The number of variables in Attributes:    ',len(file_content.attrs), '\\n\\n')\n",
    "\n",
    "print('- Attributes is loaded in:    ', type(file_content.attrs), '\\n\\n')\n",
    "\n",
    "print('- Attributes content:    ', '\\n\\n', file_content.attrs, '\\n\\n')"
   ]
  },
  {
   "cell_type": "markdown",
   "metadata": {
    "colab_type": "text",
    "id": "yHCVioWvC09O"
   },
   "source": [
    "<a id=\"16\"></a>\n",
    "##### Explore Attributes Names. ( .attrs.keys( ))\n",
    "- To list the attribute names, use .keys() as follow:"
   ]
  },
  {
   "cell_type": "code",
   "execution_count": 0,
   "metadata": {
    "colab": {
     "base_uri": "https://localhost:8080/",
     "height": 122
    },
    "colab_type": "code",
    "id": "jON0EupGC09O",
    "outputId": "9fd02720-fcc7-40fa-b74e-2234fd7acf97"
   },
   "outputs": [
    {
     "name": "stdout",
     "output_type": "stream",
     "text": [
      "Attributes Dictionary Keys:     \n",
      "\n",
      " dict_keys(['node', 'comment', 'publisher_email', 'sourceUrl', 'collection_method', 'stream', 'featureType', 'creator_email', 'publisher_name', 'date_modified', 'keywords', 'cdm_data_type', 'references', 'Metadata_Conventions', 'date_created', 'id', 'requestUUID', 'contributor_role', 'summary', 'keywords_vocabulary', 'institution', 'naming_authority', 'feature_Type', 'infoUrl', 'license', 'contributor_name', 'uuid', 'creator_name', 'title', 'sensor', 'standard_name_vocabulary', 'acknowledgement', 'Conventions', 'project', 'source', 'publisher_url', 'creator_url', 'nodc_template_version', 'subsite', 'processing_level', 'history', 'Manufacturer', 'ModelNumber', 'SerialNumber', 'Description', 'FirmwareVersion', 'SoftwareVersion', 'AssetUniqueID', 'Notes', 'Owner', 'RemoteResources', 'ShelfLifeExpirationDate', 'Mobile', 'AssetManagementRecordLastModified', 'time_coverage_start', 'time_coverage_end', 'time_coverage_resolution', 'geospatial_lat_min', 'geospatial_lat_max', 'geospatial_lat_units', 'geospatial_lat_resolution', 'geospatial_lon_min', 'geospatial_lon_max', 'geospatial_lon_units', 'geospatial_lon_resolution', 'geospatial_vertical_units', 'geospatial_vertical_resolution', 'geospatial_vertical_positive', 'lat', 'lon']) \n",
      "\n",
      "\n"
     ]
    }
   ],
   "source": [
    "# get the atttributes variable anmes:\n",
    "if file_content.attrs:\n",
    "    print('Attributes Dictionary Keys:    ', '\\n\\n', \\\n",
    "          file_content.attrs.keys(), '\\n\\n')"
   ]
  },
  {
   "cell_type": "markdown",
   "metadata": {
    "colab_type": "text",
    "id": "FB6yL4g1C09Q"
   },
   "source": [
    "<a id=\"18\"></a>\n",
    "##### Extract Attributes Information. ( .attrs[ ])\n",
    "- set **attrs_var** to one of the Attribute names.\n",
    "- If the Attribute content is not empty print its content."
   ]
  },
  {
   "cell_type": "code",
   "execution_count": 0,
   "metadata": {
    "colab": {
     "base_uri": "https://localhost:8080/",
     "height": 68
    },
    "colab_type": "code",
    "id": "W5exg3-75aOB",
    "outputId": "69653938-40e9-48ae-9185-1a18c26c4d29"
   },
   "outputs": [
    {
     "name": "stdout",
     "output_type": "stream",
     "text": [
      "sourceUrl :     http://oceanobservatories.org/ \n",
      "\n",
      "\n"
     ]
    }
   ],
   "source": [
    "# define attrs_var\n",
    "attrs_var = 'sourceUrl' \n",
    "if file_content.attrs:\n",
    "    print(attrs_var,':    ', file_content.attrs[attrs_var], '\\n\\n')"
   ]
  },
  {
   "cell_type": "code",
   "execution_count": 0,
   "metadata": {
    "colab": {
     "base_uri": "https://localhost:8080/",
     "height": 68
    },
    "colab_type": "code",
    "id": "8e4jreRs5bKu",
    "outputId": "2487a7af-8dca-4eee-b010-cc36e3f3f52e"
   },
   "outputs": [
    {
     "name": "stdout",
     "output_type": "stream",
     "text": [
      "references :     More information can be found at http://oceanobservatories.org/ \n",
      "\n",
      "\n"
     ]
    }
   ],
   "source": [
    "# define attrs_var\n",
    "attrs_var = 'references' \n",
    "if file_content.attrs:\n",
    "    print(attrs_var,':    ', file_content.attrs[attrs_var], '\\n\\n')"
   ]
  },
  {
   "cell_type": "code",
   "execution_count": 0,
   "metadata": {
    "colab": {
     "base_uri": "https://localhost:8080/",
     "height": 68
    },
    "colab_type": "code",
    "id": "a84sgDQ7C09R",
    "outputId": "b456b459-2231-44dc-aed8-f176b332f08c"
   },
   "outputs": [
    {
     "name": "stdout",
     "output_type": "stream",
     "text": [
      "date_created :     2019-10-17T03:16:56.980553 \n",
      "\n",
      "\n"
     ]
    }
   ],
   "source": [
    "# define attrs_var\n",
    "attrs_var = 'date_created' \n",
    "if file_content.attrs:\n",
    "    print(attrs_var,':    ', file_content.attrs[attrs_var], '\\n\\n')"
   ]
  },
  {
   "cell_type": "markdown",
   "metadata": {
    "colab_type": "text",
    "id": "muNLzs26C09T"
   },
   "source": [
    "> ###  _Metadata:_\n",
    "- [x] <font color=\"Blue\"> The description give s more information about the sensor used to collect data (e.g., sensor used to collect data is a \"CTD Mooring (Inductive): CTDMO Series G\"). </font>\n",
    "- [x] <font color=\"Blue\"> More information on the data may be extracted by setting the attrs_var to other attributes names. </font> "
   ]
  },
  {
   "cell_type": "markdown",
   "metadata": {
    "colab_type": "text",
    "id": "BcQnICmtC09T"
   },
   "source": [
    "<a id=\"19\"></a>\n",
    "## <font color=\"Green\">  Metadata Summary:  </font>\n",
    "\n",
    "- In the file examined, the metadata exist in any of the file elements described above: **_Dimensions, Attributes, Data variables, Coordinates_**.\n",
    "\n",
    "- The python code lines used in this notebook is what you need to extract the metadata information in a NetCDF file.\n",
    "\n",
    "- You can use the last code cell to retrieve any of the information in the file attributes and see if you can describe the data in the file and its provenance.  \n",
    "\n",
    "\n",
    "The data file metadata can be grouped in the following categories:\n",
    "- **Category 1:** The data file information.\n",
    "    - 'date_created', 'date_modified', 'ShelfLifeExpirationDate', 'RemoteResources',\n",
    "    - 'AssetManagementRecordLastModified', 'FirmwareVersion', 'SoftwareVersion'\n",
    "    - 'keywords', 'keywords_vocabulary',\n",
    "    - 'acknowledgement', 'license', 'history', 'Notes', 'comment',\n",
    "    - 'title', 'source', 'summary', 'id', 'requestUUID', 'uuid',\n",
    "    \n",
    "    \n",
    "- **Category 2:** The project information.\n",
    "    - 'Owner', 'institution', 'references', 'project', \n",
    "    - 'contributor_name', 'contributor_role',\n",
    "    - 'creator_name','creator_email', 'creator_url',\n",
    "    - 'publisher_name', 'publisher_email', 'publisher_url', \n",
    "    - 'infoUrl','sourceUrl', 'naming_authority',\n",
    "   \n",
    "   \n",
    "- **Category 3:** The data collection information.\n",
    "    - 'subsite', 'node', 'sensor','stream', 'Mobile', 'collection_method'\n",
    "    - 'Manufacturer', ModelNumber, 'SerialNumber', 'Description', 'AssetUniqueID'\n",
    "    - 'processing_level', 'cdm_data_type', 'feature_Type' \n",
    "    - 'time_coverage_start', 'time_coverage_end', 'time_coverage_resolution',\n",
    "    - 'lat', 'lon',\n",
    "    - 'geospatial_lat_min', 'geospatial_lat_max', 'geospatial_lat_units', 'geospatial_lat_resolution', \n",
    "    - 'geospatial_lon_min', 'geospatial_lon_max', 'geospatial_lon_units', 'geospatial_lon_resolution', \n",
    "    - 'geospatial_vertical_units', 'geospatial_vertical_resolution', 'geospatial_vertical_positive'\n",
    "\n",
    "    \n",
    "- **Category 4:** The conventions used to create the metadata or data.\n",
    "    - 'Metadata_Conventions', 'nodc_template_version', 'Conventions', 'standard_name_vocabulary'\n",
    "  \n",
    "  \n",
    "- **Category 5:** The parameter measured information.\n",
    "    - 'comment'\n",
    "    - 'long_name' \n",
    "    - 'standard_name'\n",
    "    - 'precision'\n",
    "    - 'data_product_identifier'\n",
    "    - 'units'\n",
    "    - 'values'\n",
    "    - 'dimension'\n",
    "    - 'coordinates'\n",
    "    \n",
    "\n",
    "### <font color=\"Green\"> What is Next:  </font>\n",
    "- The information in the file, is what you need to start evaluating the quality of your data.  \n",
    "- Data quality evaluation will be more in details in the upcoming course labs."
   ]
  },
  {
   "cell_type": "markdown",
   "metadata": {
    "colab_type": "text",
    "id": "v5Pucj0yC09U"
   },
   "source": [
    "## END"
   ]
  }
 ],
 "metadata": {
  "colab": {
   "name": "Colab_Copy_of_00002_Data_File_Metadata_Example.ipynb",
   "provenance": []
  },
  "kernelspec": {
   "display_name": "Python 3",
   "language": "python",
   "name": "python3"
  },
  "language_info": {
   "codemirror_mode": {
    "name": "ipython",
    "version": 3
   },
   "file_extension": ".py",
   "mimetype": "text/x-python",
   "name": "python",
   "nbconvert_exporter": "python",
   "pygments_lexer": "ipython3",
   "version": "3.7.7"
  }
 },
 "nbformat": 4,
 "nbformat_minor": 1
}
