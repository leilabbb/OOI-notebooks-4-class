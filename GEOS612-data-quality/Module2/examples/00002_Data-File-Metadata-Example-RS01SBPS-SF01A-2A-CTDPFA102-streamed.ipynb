{
 "cells": [
  {
   "cell_type": "markdown",
   "metadata": {},
   "source": [
    "# Explore the Data File Metadata.\n",
    "\n",
    "The data file to be used in Module 1 Lab assignment is a NetCDF file. The following is a brief description of the file type, its data structure, and why it is suitable for the Metadata exercise.\n",
    "\n",
    "#### File Type: \n",
    "\n",
    "- The file type used for this exercise is the Network Common Data Form file (NetCDF) with file extension \"*.nc\".\n",
    "- NetCDF is based on a binary file storage mechanism.\n",
    "- It is a self-documenting data storage and data access method that is used in the geoscience filed.\n",
    "\n",
    "\n",
    "\n",
    " #### Data Structure:\n",
    " \n",
    "- NetCDF is commonly used for storing and interchanging multidimensional scientific data variables (Schema 1).\n",
    "- This file type includes data (observation values) and descriptive information about the data (Metadata). \n",
    "- Data are displayed through a dimension such as time, date, latitude, longitude, or depth. \n",
    "\n",
    "\n",
    "##### Why NetCDF File?\n",
    "\n",
    "- The NetCDF files are easy to manipulate.\n",
    "- Metadata is entered in a structured way, so it is easy to retrieve.\n",
    "- Metadata entries can use a free text format and a good number of words.\n",
    "- Other file types do not all share these characteristics. Such files are: excel (.xlsx), text (.txt), and comma separated (.csv) file types."
   ]
  },
  {
   "cell_type": "markdown",
   "metadata": {},
   "source": [
    "### Schema 1.\n",
    "#### NetCDF Multidimensional Data Structure Example.\n",
    "\n",
    "<img src= 'NetCDF_dim.png' />"
   ]
  },
  {
   "cell_type": "markdown",
   "metadata": {},
   "source": [
    "### <span style='color:Green'> Outline   </span>\n",
    "\n",
    "- In this exercise we are going to execute the following steps to learn how to work with the NetCDF files and extract metadata information:\n",
    "\n",
    "    * [Step 0. Import Python Packages.](#0)\n",
    "    \n",
    "    * [Step 1. Access, Load, and Print the Data File Content.](#1)\n",
    "    \n",
    "        * [Define Data File.](#2)\n",
    "        \n",
    "        * [Load Data File.](#3)\n",
    "        \n",
    "        * [Print Data File.](#4)\n",
    "        \n",
    "        * [Data File Content.](#5)\n",
    "        \n",
    "    * [Step 2. Extract File Elements Separately.](#6)\n",
    "    \n",
    "        * [Python Syntax.](#7)\n",
    "        \n",
    "        * [Dimensions](#8)\n",
    "        \n",
    "            * [Explore Dimensions Variables.](#9)\n",
    "            \n",
    "        * [Coordinates.](#10)\n",
    "         \n",
    "            * [Explore Coordinates Variables.](#11)\n",
    "             \n",
    "        * [Data Variables.](#12)\n",
    "         \n",
    "            * [Explore Data Variables.](#13)\n",
    "            \n",
    "            * [Explore Data Variables Attributes.](#31)\n",
    "             \n",
    "            * [Extract the Attributes Content.](#14)\n",
    "             \n",
    "        * [Attributes.](#15)\n",
    "         \n",
    "            * [Explore Attributes Variables.](#16)\n",
    "             \n",
    "            * [Extract Attributes Information.](#17)\n",
    "             \n",
    "    * [Metadata Summary.](#18)\n",
    "        "
   ]
  },
  {
   "cell_type": "markdown",
   "metadata": {},
   "source": [
    "<span style='color:Orange' size=20 > **Attention:** </span> \n",
    "- This lab learning material is a reference for the rest of the course labs. \n",
    "- To run the notebook, you need to follow the septs in order.\n",
    "- Do not forget to run you cell before you move on to the next one. \n",
    "- This is especially true for the code cells: the output of a cell may be an input in the next cell."
   ]
  },
  {
   "cell_type": "markdown",
   "metadata": {},
   "source": [
    "<a id=\"0\"></a>\n",
    "## <span font=Cooper size=20 > Step 0. Import Python Packages. </span>\n",
    "To run the code lines in this notebook you need xarray and pandas python packages.\n",
    "Use the import function to access the packages in the Python library.\n",
    "\n",
    "<span style='color:Purple' size=20 > **Note:** </span> \n",
    "- If you need to add more packages you can do so in a code cell. \n",
    "\n",
    "- The package needs to be imported before it is called in the command line.\n"
   ]
  },
  {
   "cell_type": "code",
   "execution_count": 3,
   "metadata": {},
   "outputs": [],
   "source": [
    "# xr, pd are the package IDs used to call python's function to run code lines.\n",
    "import xarray as xr\n",
    "import pandas as pd"
   ]
  },
  {
   "cell_type": "markdown",
   "metadata": {},
   "source": [
    "<a id=\"1\"></a>\n",
    "## <span font=Cooper size=20 >  Step 1. Access, Load , and Print the Data File Content.  </span>\n"
   ]
  },
  {
   "cell_type": "markdown",
   "metadata": {},
   "source": [
    "<a id=\"2\"></a>\n",
    "### Define Data File."
   ]
  },
  {
   "cell_type": "markdown",
   "metadata": {},
   "source": [
    "- set **filename** as a variable to define the data file:\n",
    "\n",
    "    - If the data file is visible in your dashboard you only need to set the variable filename to the name of the data file:\n",
    "        - filename = 'your data file name'   (**Note**: Your data file name should end with .nc)\n",
    "                              \n",
    "    - Check the directory you are in using this command:\n",
    "        - %pwd\n",
    "                  \n",
    "    - If the data file is in a different directory, change directory to where your data file is stored using the following command:\n",
    "        - %cd (path to your file)\n",
    "        - **filename** = 'your data file name'    (**Note**: Your data file name should end with .nc)"
   ]
  },
  {
   "cell_type": "code",
   "execution_count": 5,
   "metadata": {},
   "outputs": [],
   "source": [
    "# The data file is in your home dashboard.\n",
    "\n",
    "filename = 'FGBNMS_FGBNMS-15-09_Stetson_Bank_Long_Term_Monitoring_1_bf82_615c_5b81.nc'"
   ]
  },
  {
   "cell_type": "code",
   "execution_count": 7,
   "metadata": {},
   "outputs": [
    {
     "data": {
      "text/plain": [
       "'/Users/leilabelabassi/Desktop/TAMU/online-class/612-DataQuality4theGeosciences/NetCDF-Files'"
      ]
     },
     "execution_count": 7,
     "metadata": {},
     "output_type": "execute_result"
    }
   ],
   "source": [
    "# The data file is not in your home dashboard. \n",
    "# Change directory to where your data file is stored.\n",
    "# This is how to check the directory you are in:\n",
    "%pwd"
   ]
  },
  {
   "cell_type": "code",
   "execution_count": 4,
   "metadata": {},
   "outputs": [
    {
     "name": "stdout",
     "output_type": "stream",
     "text": [
      "/Users/leilabelabassi/Desktop/TAMU/online-class/612-DataQuality4theGeosciences/NetCDF-Files/Module-1_NetCDF_Files\n"
     ]
    }
   ],
   "source": [
    "# This is how you change your directory to where your data file is stored:\n",
    "%cd '/Users/leilabelabassi/Desktop/TAMU/online-class/612-DataQuality4theGeosciences/NetCDF-Files/Module-1_NetCDF_Files/'\n",
    "\n",
    "filename = 'deployment0003_RS01SBPS-SF01A-2A-CTDPFA102-streamed-ctdpf_sbe43_sample_20161110T000000.935191-20161110T102128.580840.nc'"
   ]
  },
  {
   "cell_type": "markdown",
   "metadata": {},
   "source": [
    "<a id=\"3\"></a>\n",
    "### Load Data File. \n",
    "- Use xarray (**xr**) to open and read the data file content.\n",
    "- Set **file_content** as a variable to record the data file content."
   ]
  },
  {
   "cell_type": "code",
   "execution_count": 5,
   "metadata": {},
   "outputs": [],
   "source": [
    "# Load data\n",
    "file_content = xr.open_dataset(filename,decode_times=False) #decode_cf=False "
   ]
  },
  {
   "cell_type": "markdown",
   "metadata": {},
   "source": [
    "<a id=\"4\"></a>\n",
    "### Print Data File.\n",
    "- Use Python functions **print, len, type** to get more information about the content of the data file."
   ]
  },
  {
   "cell_type": "code",
   "execution_count": 6,
   "metadata": {},
   "outputs": [
    {
     "name": "stdout",
     "output_type": "stream",
     "text": [
      "- The number of variables in the file:     32 \n",
      "\n",
      "\n",
      "- The file variables are loaded in:     <class 'xarray.core.dataset.Dataset'> \n",
      "\n",
      "\n",
      "- File Content:     \n",
      "\n",
      " <xarray.Dataset>\n",
      "Dimensions:                                 (obs: 37288)\n",
      "Coordinates:\n",
      "    time                                    (obs) float64 ...\n",
      "    lat                                     (obs) float64 ...\n",
      "    lon                                     (obs) float64 ...\n",
      "Dimensions without coordinates: obs\n",
      "Data variables:\n",
      "    quality_flag                            (obs) |S2 ...\n",
      "    ingestion_timestamp                     (obs) float64 ...\n",
      "    port_timestamp                          (obs) float64 ...\n",
      "    pressure                                (obs) float64 ...\n",
      "    deployment                              (obs) int32 ...\n",
      "    driver_timestamp                        (obs) float64 ...\n",
      "    id                                      (obs) |S36 ...\n",
      "    conductivity                            (obs) float64 ...\n",
      "    preferred_timestamp                     (obs) object ...\n",
      "    temperature                             (obs) float64 ...\n",
      "    provenance                              (obs) |S36 ...\n",
      "    pressure_temp                           (obs) float64 ...\n",
      "    internal_timestamp                      (obs) float64 ...\n",
      "    ext_volt0                               (obs) float64 ...\n",
      "    seawater_temperature                    (obs) float64 ...\n",
      "    seawater_pressure                       (obs) float64 ...\n",
      "    seawater_conductivity                   (obs) float64 ...\n",
      "    practical_salinity                      (obs) float64 ...\n",
      "    seawater_density                        (obs) float64 ...\n",
      "    corrected_dissolved_oxygen              (obs) float64 ...\n",
      "    seawater_temperature_qc_executed        (obs) int8 ...\n",
      "    seawater_temperature_qc_results         (obs) int8 ...\n",
      "    seawater_pressure_qc_executed           (obs) int8 ...\n",
      "    seawater_pressure_qc_results            (obs) int8 ...\n",
      "    seawater_conductivity_qc_executed       (obs) int8 ...\n",
      "    seawater_conductivity_qc_results        (obs) int8 ...\n",
      "    practical_salinity_qc_executed          (obs) int8 ...\n",
      "    practical_salinity_qc_results           (obs) int8 ...\n",
      "    seawater_density_qc_executed            (obs) int8 ...\n",
      "    seawater_density_qc_results             (obs) int8 ...\n",
      "    corrected_dissolved_oxygen_qc_executed  (obs) int8 ...\n",
      "    corrected_dissolved_oxygen_qc_results   (obs) int8 ...\n",
      "Attributes:\n",
      "    node:                            SF01A\n",
      "    comment:                         \n",
      "    publisher_email:                 \n",
      "    sourceUrl:                       http://oceanobservatories.org/\n",
      "    collection_method:               streamed\n",
      "    stream:                          ctdpf_sbe43_sample\n",
      "    featureType:                     point\n",
      "    creator_email:                   \n",
      "    publisher_name:                  Ocean Observatories Initiative\n",
      "    date_modified:                   2016-11-11T15:54:48.548184\n",
      "    keywords:                        \n",
      "    cdm_data_type:                   Point\n",
      "    references:                      More information can be found at http://...\n",
      "    Metadata_Conventions:            Unidata Dataset Discovery v1.0\n",
      "    date_created:                    2016-11-11T15:54:48.548171\n",
      "    id:                              RS01SBPS-SF01A-2A-CTDPFA102-streamed-ctd...\n",
      "    requestUUID:                     f821ac89-f7a0-4ede-b55a-c43cf60f151f\n",
      "    contributor_role:                \n",
      "    summary:                         Dataset Generated by Stream Engine from ...\n",
      "    keywords_vocabulary:             \n",
      "    institution:                     Ocean Observatories Initiative\n",
      "    naming_authority:                org.oceanobservatories\n",
      "    feature_Type:                    point\n",
      "    infoUrl:                         http://oceanobservatories.org/\n",
      "    license:                         \n",
      "    contributor_name:                \n",
      "    uuid:                            f821ac89-f7a0-4ede-b55a-c43cf60f151f\n",
      "    creator_name:                    Ocean Observatories Initiative\n",
      "    title:                           Data produced by Stream Engine version 1...\n",
      "    sensor:                          2A-CTDPFA102\n",
      "    standard_name_vocabulary:        NetCDF Climate and Forecast (CF) Metadat...\n",
      "    acknowledgement:                 \n",
      "    Conventions:                     CF-1.6\n",
      "    project:                         Ocean Observatories Initiative\n",
      "    source:                          RS01SBPS-SF01A-2A-CTDPFA102-streamed-ctd...\n",
      "    publisher_url:                   http://oceanobservatories.org/\n",
      "    creator_url:                     http://oceanobservatories.org/\n",
      "    nodc_template_version:           NODC_NetCDF_TimeSeries_Orthogonal_Templa...\n",
      "    subsite:                         RS01SBPS\n",
      "    processing_level:                L2\n",
      "    history:                         2016-11-11T15:54:48.547998 generated fro...\n",
      "    time_coverage_start:             2016-11-10T00:00:00.935191\n",
      "    time_coverage_end:               2016-11-10T10:21:28.580840\n",
      "    time_coverage_resolution:        P1.00S\n",
      "    geospatial_lat_min:              44.52897\n",
      "    geospatial_lat_max:              44.52897\n",
      "    geospatial_lat_units:            degrees_north\n",
      "    geospatial_lat_resolution:       0.1\n",
      "    geospatial_lon_min:              -125.38966\n",
      "    geospatial_lon_max:              -125.38966\n",
      "    geospatial_lon_units:            degrees_east\n",
      "    geospatial_lon_resolution:       0.1\n",
      "    geospatial_vertical_units:       meters\n",
      "    geospatial_vertical_resolution:  0.1\n",
      "    geospatial_vertical_positive:    down \n",
      "\n",
      "\n"
     ]
    }
   ],
   "source": [
    "# Print the length of the file_content using the print and len functions\n",
    "\n",
    "print('- The number of variables in the file:    ', len(file_content), '\\n\\n')\n",
    "\n",
    "# Print the type of the file_content using the print and type functions\n",
    "\n",
    "print('- The file variables are loaded in:    ', type(file_content), '\\n\\n')\n",
    "\n",
    "# Print the content of the file\n",
    "\n",
    "print('- File Content:    ', '\\n\\n', file_content, '\\n\\n')\n"
   ]
  },
  {
   "cell_type": "markdown",
   "metadata": {},
   "source": [
    "<a id=\"5\"></a>\n",
    "### Data File Content."
   ]
  },
  {
   "cell_type": "markdown",
   "metadata": {},
   "source": [
    "**Data File Elements:**\n",
    "The NetCDF files are organized as follow:\n",
    "- <span style='color:Purple'> Dimensions: </span>\n",
    "   - Variables:  e.g., obs \n",
    "        - Parameters. e.g., values\n",
    "- <span style='color:Purple'> Coordinates: </span>\n",
    "   - Variables:  e.g., obs\n",
    "        - Parameters.  e.g., values\n",
    "- <span style='color:Purple'> Data variables: </span>\n",
    "   - Variables:  e.g., time\n",
    "        - Parameters. e.g., values, unit, long_name\n",
    "- <span style='color:Purple'> Attributes: </span>\n",
    "   - Variables: e.g., node\n",
    "        - Parameters. e.g., information\n",
    "        \n",
    " \n",
    "\n",
    "______________________________________________\n",
    "###  _Metadata:_  \n",
    "- [x] <span style='color:blue'>   Metadata exists in any of the elements described above. The rest of the notebook will show how to access the metadata information. </span>\n",
    "______________________________________________"
   ]
  },
  {
   "cell_type": "markdown",
   "metadata": {},
   "source": [
    "<a id=\"6\"></a>\n",
    "## Step 2. Extract File Elements Seperately.\n"
   ]
  },
  {
   "cell_type": "markdown",
   "metadata": {},
   "source": [
    "<a id=\"7\"></a>\n",
    "### Python Syntax. \n",
    "file_content. _attributes_ \n",
    "\n",
    "\n",
    "|  || ||\n",
    "| -  | -  | -  | -  |\n",
    "|<span style='color:blue'> **syntax:** </span>| file_content   | .  |  _attributes_ |\n",
    "|**Description**|defined variable|dot |replace by file_content's attributes: <span style='color:Purple'> coords, variables, dim |\n",
    "\n"
   ]
  },
  {
   "cell_type": "markdown",
   "metadata": {},
   "source": [
    "<a id=\"8\"></a>\n",
    "###  <span style='color:Purple'> Dimensions.  </span>"
   ]
  },
  {
   "cell_type": "code",
   "execution_count": 7,
   "metadata": {},
   "outputs": [
    {
     "name": "stdout",
     "output_type": "stream",
     "text": [
      "- The number of variables in Dimensions:     1 \n",
      "\n",
      "\n",
      "- Dimensions is loaded in:     <class 'xarray.core.utils.Frozen'> \n",
      "\n",
      "\n",
      "- Dimensions content:     Frozen(SortedKeysDict({'obs': 37288})) \n",
      "\n",
      "\n"
     ]
    }
   ],
   "source": [
    "print('- The number of variables in Dimensions:    ', len(file_content.dims), '\\n\\n')\n",
    "\n",
    "print('- Dimensions is loaded in:    ', type(file_content.dims), '\\n\\n')\n",
    "\n",
    "print('- Dimensions content:    ', file_content.dims, '\\n\\n')\n"
   ]
  },
  {
   "cell_type": "markdown",
   "metadata": {},
   "source": [
    "<a id=\"9\"></a>\n",
    "##### Explore Dimensions variables.\n",
    "- Set **dims_var** to one of the variables stored in Dimensions.\n",
    "- Get the variable name from the output of the previous cell.\n",
    "- Use the following syntax: **file_content.dims[dims_var]**\n",
    "\n",
    "|syntax|description|\n",
    "|-| -|\n",
    "| file_content | the variable previously defined   |\n",
    "| | |\n",
    "|   .  | dot|\n",
    "| | |\n",
    "| dims| attributes of file_content |\n",
    "| | |\n",
    "| [dims_var] | variable name between brackets |\n",
    "\n",
    "- If the Dimensions content is not empty print its content."
   ]
  },
  {
   "cell_type": "code",
   "execution_count": 8,
   "metadata": {},
   "outputs": [
    {
     "name": "stdout",
     "output_type": "stream",
     "text": [
      "obs :     37288 \n",
      "\n",
      "\n"
     ]
    }
   ],
   "source": [
    "# define dims_var\n",
    "dims_var = 'obs'\n",
    "\n",
    "# Print the content of dims_var\n",
    "\n",
    "if file_content.dims:\n",
    "    print(dims_var, ':    ', file_content.dims[dims_var], '\\n\\n')"
   ]
  },
  {
   "cell_type": "markdown",
   "metadata": {},
   "source": [
    "________________________________________________\n",
    "###  _Metadata:_ \n",
    "- [x] <span style='color:Blue'> We expect to have 20 data points for each parameter measured. </span> \n",
    "________________________________________________"
   ]
  },
  {
   "cell_type": "markdown",
   "metadata": {},
   "source": [
    "<a id=\"10\"></a>\n",
    "### <span style='color:Purple'> Coordinates. </span>"
   ]
  },
  {
   "cell_type": "code",
   "execution_count": 9,
   "metadata": {},
   "outputs": [
    {
     "name": "stdout",
     "output_type": "stream",
     "text": [
      "- The number of parameters in Coordinates:     3 \n",
      "\n",
      "\n",
      "- Coordinates is loaded in:     <class 'xarray.core.coordinates.DatasetCoordinates'> \n",
      "\n",
      "\n",
      "- Coordinates content:     \n",
      "\n",
      " Coordinates:\n",
      "    time     (obs) float64 ...\n",
      "    lat      (obs) float64 ...\n",
      "    lon      (obs) float64 ... \n",
      "\n",
      "\n"
     ]
    }
   ],
   "source": [
    "print('- The number of parameters in Coordinates:    ', len(file_content.coords), '\\n\\n')\n",
    "\n",
    "print('- Coordinates is loaded in:    ', type(file_content.coords), '\\n\\n')\n",
    "\n",
    "print('- Coordinates content:    ', '\\n\\n', file_content.coords, '\\n\\n')"
   ]
  },
  {
   "cell_type": "markdown",
   "metadata": {},
   "source": [
    "<a id=\"11\"></a>\n",
    "##### Explore Coordinates variables.\n",
    "- Set **coord_var** to one of the variables stored Coordinates.\n",
    "- Get the variable name from the output of the previous cell.\n",
    "- Use the variable attributes to extract the parameters' content: **values, attrs, dims, coord**\n",
    "- The syntax to use is:\n",
    "\n",
    "|syntax|description|\n",
    "|-| -|\n",
    "| file_content | defined variable  |\n",
    "| | |\n",
    "|   .  | dot|\n",
    "| | |\n",
    "| coords| file_content' attributes |\n",
    "| | |\n",
    "| [coord_var] | variable name between brackets  |\n",
    "| | |\n",
    "|   .  | dot|\n",
    "| | |\n",
    "| values, attrs, dims, coords| coord_var' attributes |\n",
    "\n",
    "- If the Coordinates array is not empty print its content."
   ]
  },
  {
   "cell_type": "code",
   "execution_count": 10,
   "metadata": {},
   "outputs": [
    {
     "name": "stdout",
     "output_type": "stream",
     "text": [
      "lat values:     \n",
      "\n",
      " [44.52897 44.52897 44.52897 ... 44.52897 44.52897 44.52897] \n",
      "\n",
      "\n",
      "lat attributes:     \n",
      "\n",
      " {'units': 'degrees_north', 'standard_name': 'latitude', 'axis': 'Y'} \n",
      "\n",
      "\n",
      "lat dimensions:     \n",
      "\n",
      " ('obs',) \n",
      "\n",
      "\n",
      "lat coordinates:     \n",
      "\n",
      " Coordinates:\n",
      "    time     (obs) float64 ...\n",
      "    lat      (obs) float64 44.53 44.53 44.53 44.53 ... 44.53 44.53 44.53 44.53\n",
      "    lon      (obs) float64 ... \n",
      "\n",
      "\n"
     ]
    }
   ],
   "source": [
    "# define coord_var\n",
    "coord_var = 'lat'\n",
    "\n",
    "# Print content of coord_var\n",
    "if file_content.coords:    \n",
    "    print(str(coord_var),'values:    ', '\\n\\n', file_content.coords[coord_var].values, '\\n\\n')\n",
    "    print(str(coord_var),'attributes:    ', '\\n\\n', file_content.coords[coord_var].attrs, '\\n\\n')\n",
    "    print(str(coord_var),'dimensions:    ', '\\n\\n', file_content.coords[coord_var].dims, '\\n\\n')\n",
    "    print(str(coord_var),'coordinates:    ', '\\n\\n', file_content.coords[coord_var].coords, '\\n\\n')"
   ]
  },
  {
   "cell_type": "markdown",
   "metadata": {},
   "source": [
    "______________________________________________\n",
    "###  _Metadata:_  \n",
    "- [x] <span style='color:Blue'> The coordinates are set as an array of. The sequence numbers of observations are used as labels for the data points in the observation array. </span> \n",
    "______________________________________________"
   ]
  },
  {
   "cell_type": "markdown",
   "metadata": {},
   "source": [
    "<a id=\"12\"></a>\n",
    "### <span style='color:Purple'> Data Variables.  </span>"
   ]
  },
  {
   "cell_type": "code",
   "execution_count": 11,
   "metadata": {},
   "outputs": [
    {
     "name": "stdout",
     "output_type": "stream",
     "text": [
      "- The number of parameters in Data variables:     35 \n",
      "\n",
      "\n",
      "- Data variables is loaded in:     <class 'xarray.core.utils.Frozen'> \n",
      "\n",
      "\n",
      "- Data variables content:     \n",
      "\n",
      " Frozen({'quality_flag': <xarray.Variable (obs: 37288)>\n",
      "array([b'ok', b'ok', b'ok', ..., b'ok', b'ok', b'ok'], dtype='|S2')\n",
      "Attributes:\n",
      "    name:     quality_flag, 'ingestion_timestamp': <xarray.Variable (obs: 37288)>\n",
      "array([3.687725e+09, 3.687725e+09, 3.687725e+09, ..., 3.687762e+09,\n",
      "       3.687762e+09, 3.687762e+09])\n",
      "Attributes:\n",
      "    comment:    The NTP Timestamp for when the granule was ingested\n",
      "    units:      seconds since 1900-01-01\n",
      "    long_name:  Ingestion Timestamp, UTC, 'port_timestamp': <xarray.Variable (obs: 37288)>\n",
      "array([3.687725e+09, 3.687725e+09, 3.687725e+09, ..., 3.687762e+09,\n",
      "       3.687762e+09, 3.687762e+09])\n",
      "Attributes:\n",
      "    comment:    Port timestamp, UTC\n",
      "    units:      seconds since 1900-01-01\n",
      "    long_name:  Port Timestamp, UTC, 'pressure': <xarray.Variable (obs: 37288)>\n",
      "array([714710., 714668., 714636., ..., 713473., 713462., 713449.])\n",
      "Attributes:\n",
      "    comment:                  Seawater Pressure refers to the pressure exerte...\n",
      "    long_name:                Seawater Pressure Measurement\n",
      "    precision:                0\n",
      "    data_product_identifier:  PRESWAT_L0\n",
      "    units:                    counts, 'deployment': <xarray.Variable (obs: 37288)>\n",
      "array([3, 3, 3, ..., 3, 3, 3], dtype=int32)\n",
      "Attributes:\n",
      "    name:     deployment, 'driver_timestamp': <xarray.Variable (obs: 37288)>\n",
      "array([3.687725e+09, 3.687725e+09, 3.687725e+09, ..., 3.687762e+09,\n",
      "       3.687762e+09, 3.687762e+09])\n",
      "Attributes:\n",
      "    comment:    Driver timestamp, UTC\n",
      "    units:      seconds since 1900-01-01\n",
      "    long_name:  Driver Timestamp, UTC, 'id': <xarray.Variable (obs: 37288)>\n",
      "array([b'1676be37-cf64-424c-a59b-5ffba701fb4b',\n",
      "       b'43d183eb-29cd-4fc0-9d3b-f3e5761ac41d',\n",
      "       b'626bccba-4354-4e47-a5d9-908bbe40cd7e', ...,\n",
      "       b'79a2d77e-e570-49db-be6b-df334c9d0784',\n",
      "       b'240b1e5d-41f8-473a-9e15-d53564c82f9b',\n",
      "       b'f51a47ed-34cc-42a2-8dce-24d221ddf300'], dtype='|S36')\n",
      "Attributes:\n",
      "    name:     id, 'conductivity': <xarray.Variable (obs: 37288)>\n",
      "array([1469338., 1469342., 1469354., ..., 1464678., 1464679., 1464683.])\n",
      "Attributes:\n",
      "    comment:                  Seawater conductivity refers to the ability of ...\n",
      "    long_name:                Seawater Conductivity Measurement\n",
      "    precision:                0\n",
      "    data_product_identifier:  CONDWAT_L0\n",
      "    units:                    counts, 'preferred_timestamp': <xarray.Variable (obs: 37288)>\n",
      "array([b'port_timestamp', b'port_timestamp', b'port_timestamp', ...,\n",
      "       b'port_timestamp', b'port_timestamp', b'port_timestamp'], dtype=object)\n",
      "Attributes:\n",
      "    comment:    Timestamp preferred as official record.\n",
      "    units:      1\n",
      "    long_name:  Preferred Timestamp, 'temperature': <xarray.Variable (obs: 37288)>\n",
      "array([427933., 427931., 427928., ..., 433334., 433333., 433331.])\n",
      "Attributes:\n",
      "    comment:                  Seawater temperature unprocessed measurement ne...\n",
      "    long_name:                Seawater Temperature Measurement\n",
      "    precision:                0\n",
      "    data_product_identifier:  TEMPWAT_L0\n",
      "    units:                    counts, 'provenance': <xarray.Variable (obs: 37288)>\n",
      "array([b'f26fd549-bf20-4898-93f9-ae3bcad98ae2',\n",
      "       b'f26fd549-bf20-4898-93f9-ae3bcad98ae2',\n",
      "       b'f26fd549-bf20-4898-93f9-ae3bcad98ae2', ...,\n",
      "       b'f26fd549-bf20-4898-93f9-ae3bcad98ae2',\n",
      "       b'f26fd549-bf20-4898-93f9-ae3bcad98ae2',\n",
      "       b'f26fd549-bf20-4898-93f9-ae3bcad98ae2'], dtype='|S36')\n",
      "Attributes:\n",
      "    name:     provenance, 'pressure_temp': <xarray.Variable (obs: 37288)>\n",
      "array([15082., 15082., 15082., ..., 15029., 15029., 15029.])\n",
      "Attributes:\n",
      "    comment:    Seawater Pressure refers to the pressure exerted on a sensor ...\n",
      "    precision:  0\n",
      "    long_name:  Seawater Pressure Measurement\n",
      "    units:      counts, 'internal_timestamp': <xarray.Variable (obs: 37288)>\n",
      "array([0., 0., 0., ..., 0., 0., 0.])\n",
      "Attributes:\n",
      "    comment:    Internal timestamp, UTC\n",
      "    units:      seconds since 1900-01-01\n",
      "    long_name:  Internal Timestamp, UTC, 'time': <xarray.Variable (obs: 37288)>\n",
      "array([3.687725e+09, 3.687725e+09, 3.687725e+09, ..., 3.687762e+09,\n",
      "       3.687762e+09, 3.687762e+09])\n",
      "Attributes:\n",
      "    long_name:      time\n",
      "    standard_name:  time\n",
      "    units:          seconds since 1900-01-01 0:0:0\n",
      "    calendar:       gregorian\n",
      "    axis:           T, 'ext_volt0': <xarray.Variable (obs: 37288)>\n",
      "array([14857., 14854., 14850., ..., 14474., 14479., 14484.])\n",
      "Attributes:\n",
      "    comment:        SBE43 voltage reading\n",
      "    long_name:      External Voltage Reading From Oxygen Sensor\n",
      "    standard_name:  ext_volt0\n",
      "    units:          counts, 'seawater_temperature': <xarray.Variable (obs: 37288)>\n",
      "array([8.391116, 8.391242, 8.39143 , ..., 8.054185, 8.054247, 8.054371])\n",
      "Attributes:\n",
      "    comment:                  Seawater temperature near the sensor. Units: de...\n",
      "    long_name:                Seawater Temperature\n",
      "    precision:                4\n",
      "    data_product_identifier:  TEMPWAT_L1\n",
      "    standard_name:            sea_water_temperature\n",
      "    units:                    deg_C, 'seawater_pressure': <xarray.Variable (obs: 37288)>\n",
      "array([192.410704, 192.365657, 192.331335, ..., 191.084272, 191.072474,\n",
      "       191.058531])\n",
      "Attributes:\n",
      "    comment:                  Seawater Pressure refers to the pressure exerte...\n",
      "    long_name:                Seawater Pressure\n",
      "    precision:                3\n",
      "    data_product_identifier:  PRESWAT_L1\n",
      "    standard_name:            sea_water_pressure\n",
      "    units:                    dbar, 'seawater_conductivity': <xarray.Variable (obs: 37288)>\n",
      "array([3.565542, 3.565567, 3.565641, ..., 3.536609, 3.536615, 3.53664 ])\n",
      "Attributes:\n",
      "    comment:                  Seawater conductivity refers to the ability of ...\n",
      "    long_name:                Seawater Conductivity\n",
      "    precision:                6\n",
      "    data_product_identifier:  CONDWAT_L1\n",
      "    standard_name:            sea_water_electrical_conductivity\n",
      "    units:                    S m-1, 'practical_salinity': <xarray.Variable (obs: 37288)>\n",
      "array([33.930119, 33.930282, 33.930907, ..., 33.948384, 33.948396, 33.948547])\n",
      "Attributes:\n",
      "    comment:                  Salinity is generally defined as the concentrat...\n",
      "    long_name:                Practical Salinity\n",
      "    precision:                4\n",
      "    data_product_identifier:  PRACSAL_L2\n",
      "    standard_name:            sea_water_practical_salinity\n",
      "    units:                    1, 'seawater_density': <xarray.Variable (obs: 37288)>\n",
      "array([1027.257945, 1027.257847, 1027.258151, ..., 1027.318032, 1027.317978,\n",
      "       1027.318013])\n",
      "Attributes:\n",
      "    comment:                  Seawater density is defined as mass per unit vo...\n",
      "    long_name:                Seawater Density\n",
      "    precision:                4\n",
      "    data_product_identifier:  DENSITY_L2\n",
      "    standard_name:            sea_water_density\n",
      "    units:                    kg m-3, 'corrected_dissolved_oxygen': <xarray.Variable (obs: 37288)>\n",
      "array([96.996204, 96.963409, 96.919668, ..., 93.63316 , 93.686343, 93.739269])\n",
      "Attributes:\n",
      "    comment:                  Dissolved Oxygen Concentration from the Fast Re...\n",
      "    data_product_identifier:  DOCONCF_L2\n",
      "    precision:                4\n",
      "    long_name:                Dissolved Oxygen Concentration\n",
      "    units:                    umol kg-1, 'seawater_temperature_qc_executed': <xarray.Variable (obs: 37288)>\n",
      "array([29, 29, 29, ..., 29, 29, 29], dtype=int8), 'seawater_temperature_qc_results': <xarray.Variable (obs: 37288)>\n",
      "array([21, 21, 21, ..., 21, 21, 21], dtype=int8), 'seawater_pressure_qc_executed': <xarray.Variable (obs: 37288)>\n",
      "array([29, 29, 29, ..., 29, 29, 29], dtype=int8), 'seawater_pressure_qc_results': <xarray.Variable (obs: 37288)>\n",
      "array([21, 21, 21, ..., 21, 21, 21], dtype=int8), 'seawater_conductivity_qc_executed': <xarray.Variable (obs: 37288)>\n",
      "array([29, 29, 29, ..., 29, 29, 29], dtype=int8), 'seawater_conductivity_qc_results': <xarray.Variable (obs: 37288)>\n",
      "array([5, 5, 5, ..., 5, 5, 5], dtype=int8), 'practical_salinity_qc_executed': <xarray.Variable (obs: 37288)>\n",
      "array([29, 29, 29, ..., 29, 29, 29], dtype=int8), 'practical_salinity_qc_results': <xarray.Variable (obs: 37288)>\n",
      "array([21, 21, 21, ..., 21, 21, 21], dtype=int8), 'seawater_density_qc_executed': <xarray.Variable (obs: 37288)>\n",
      "array([61, 61, 61, ..., 61, 61, 61], dtype=int8), 'seawater_density_qc_results': <xarray.Variable (obs: 37288)>\n",
      "array([ 37, -91, -91, ..., -91, -91, -91], dtype=int8), 'corrected_dissolved_oxygen_qc_executed': <xarray.Variable (obs: 37288)>\n",
      "array([29, 29, 29, ..., 29, 29, 29], dtype=int8), 'corrected_dissolved_oxygen_qc_results': <xarray.Variable (obs: 37288)>\n",
      "array([21, 21, 21, ..., 21, 21, 21], dtype=int8), 'lat': <xarray.Variable (obs: 37288)>\n",
      "array([44.52897, 44.52897, 44.52897, ..., 44.52897, 44.52897, 44.52897])\n",
      "Attributes:\n",
      "    units:          degrees_north\n",
      "    standard_name:  latitude\n",
      "    axis:           Y, 'lon': <xarray.Variable (obs: 37288)>\n",
      "array([-125.38966, -125.38966, -125.38966, ..., -125.38966, -125.38966,\n",
      "       -125.38966])\n",
      "Attributes:\n",
      "    units:          degrees_east\n",
      "    standard_name:  longitude\n",
      "    axis:           X}) \n",
      "\n",
      "\n"
     ]
    }
   ],
   "source": [
    "print('- The number of parameters in Data variables:    ', len(file_content.variables), '\\n\\n')\n",
    "\n",
    "print('- Data variables is loaded in:    ', type(file_content.variables), '\\n\\n')\n",
    "\n",
    "print('- Data variables content:    ', '\\n\\n', file_content.variables, '\\n\\n')"
   ]
  },
  {
   "cell_type": "markdown",
   "metadata": {},
   "source": [
    "<a id=\"13\"></a>\n",
    "##### Explore Data Variables.\n",
    "\n",
    "- Set **data_var** to one of the variables stored in Data variables.\n",
    "- Get the variable name from the output of the previous cell.\n",
    "- Use the same syntax used for the Coordinates variables.\n",
    "- If the Data variables array is not empty print its content."
   ]
  },
  {
   "cell_type": "code",
   "execution_count": 12,
   "metadata": {},
   "outputs": [
    {
     "name": "stdout",
     "output_type": "stream",
     "text": [
      "temperature values:     \n",
      "\n",
      " [427933. 427931. 427928. ... 433334. 433333. 433331.] \n",
      "\n",
      "\n",
      "temperature attributes:     \n",
      "\n",
      " {'comment': 'Seawater temperature unprocessed measurement near the sensor. Units: counts', 'long_name': 'Seawater Temperature Measurement', 'precision': 0, 'data_product_identifier': 'TEMPWAT_L0', 'units': 'counts'} \n",
      "\n",
      "\n",
      "temperature dimensions:     \n",
      "\n",
      " ('obs',) \n",
      "\n",
      "\n"
     ]
    }
   ],
   "source": [
    "# define data_var\n",
    "data_var = 'temperature' \n",
    "\n",
    "# Print content of data_var\n",
    "if file_content.coords:    \n",
    "    print(data_var,'values:    ', '\\n\\n', file_content.variables[data_var].values, '\\n\\n')\n",
    "    print(data_var,'attributes:    ', '\\n\\n', file_content.variables[data_var].attrs, '\\n\\n')\n",
    "    print(data_var,'dimensions:    ', '\\n\\n', file_content.variables[data_var].dims, '\\n\\n')"
   ]
  },
  {
   "cell_type": "markdown",
   "metadata": {},
   "source": [
    "<a id=\"14\"></a>\n",
    "#### Explore Data Variables Attributes.\n",
    "- More information about the data variables are listed in the variable attributes.\n",
    "- To list the attributes use .key() as follow:"
   ]
  },
  {
   "cell_type": "code",
   "execution_count": 13,
   "metadata": {},
   "outputs": [
    {
     "data": {
      "text/plain": [
       "dict_keys(['comment', 'long_name', 'precision', 'data_product_identifier', 'units'])"
      ]
     },
     "execution_count": 13,
     "metadata": {},
     "output_type": "execute_result"
    }
   ],
   "source": [
    "# get the attribute names of a variable.\n",
    "file_content.variables[data_var].attrs.keys()"
   ]
  },
  {
   "cell_type": "markdown",
   "metadata": {},
   "source": [
    "<a id=\"14\"></a>\n",
    "##### Extract the Attributes Content.\n",
    "- **Note:** The information is stored in a dictionary.\n",
    "- Select an attribute name from the output of the previous cell.\n",
    "- Set **data_var_attrs** to one of the attribute names.\n",
    "- Use the syntax below:\n",
    "\n",
    "|syntax|description|\n",
    "|-| -|\n",
    "| file_content | the variable previously defined   |\n",
    "| | |\n",
    "|   .  | dot|\n",
    "| | |\n",
    "| variables| attributes of file_content |\n",
    "| | |\n",
    "| [data_var] | variable name between brackets |\n",
    "| | |\n",
    "|   .  | dot|\n",
    "| | |\n",
    "| attrs| attributes of data_var |\n",
    "| | |\n",
    "| [data_var_attrs] | variable name between brackets |\n",
    "\n",
    "- If the attributes array is not empty print its content."
   ]
  },
  {
   "cell_type": "code",
   "execution_count": 14,
   "metadata": {},
   "outputs": [
    {
     "name": "stdout",
     "output_type": "stream",
     "text": [
      "temperature comment :     \n",
      "\n",
      " Seawater temperature unprocessed measurement near the sensor. Units: counts \n",
      "\n",
      "\n"
     ]
    }
   ],
   "source": [
    "# define data_var_attrs\n",
    "data_var_attrs = 'comment'\n",
    "\n",
    "# print content of data_var_attrs\n",
    "if file_content.variables[data_var].attrs:    \n",
    "    print(data_var, data_var_attrs,':    ', '\\n\\n', \\\n",
    "          file_content.variables[data_var].attrs[data_var_attrs],'\\n\\n')\n",
    "\n",
    "    "
   ]
  },
  {
   "cell_type": "markdown",
   "metadata": {},
   "source": [
    "______________________________________________\n",
    "###  _Metadata:_  \n",
    "- [x] <span style='color:Blue'> The attribute comment gives more information about the variable temperature, such as the level of data processing (unprocessed) and the location of the measurement (near the sensor). \n",
    "- [x] <span style='color:Blue'> Note that more metadata is available in the other attributes (e.g. units, precision).   </span> \n",
    "______________________________________________"
   ]
  },
  {
   "cell_type": "markdown",
   "metadata": {},
   "source": [
    "<a id=\"15\"></a>\n",
    "### <span style='color:Purple'> Attributes.  </span>\n",
    "- Attributes here refer to the rest of the metadata that is not specific to a data variable. "
   ]
  },
  {
   "cell_type": "code",
   "execution_count": 15,
   "metadata": {},
   "outputs": [
    {
     "name": "stdout",
     "output_type": "stream",
     "text": [
      "- The number of variables in Attributes:     55 \n",
      "\n",
      "\n",
      "- Attributes is loaded in:     <class 'dict'> \n",
      "\n",
      "\n",
      "- Attributes content:     \n",
      "\n",
      " {'node': 'SF01A', 'comment': '', 'publisher_email': '', 'sourceUrl': 'http://oceanobservatories.org/', 'collection_method': 'streamed', 'stream': 'ctdpf_sbe43_sample', 'featureType': 'point', 'creator_email': '', 'publisher_name': 'Ocean Observatories Initiative', 'date_modified': '2016-11-11T15:54:48.548184', 'keywords': '', 'cdm_data_type': 'Point', 'references': 'More information can be found at http://oceanobservatories.org/', 'Metadata_Conventions': 'Unidata Dataset Discovery v1.0', 'date_created': '2016-11-11T15:54:48.548171', 'id': 'RS01SBPS-SF01A-2A-CTDPFA102-streamed-ctdpf_sbe43_sample', 'requestUUID': 'f821ac89-f7a0-4ede-b55a-c43cf60f151f', 'contributor_role': '', 'summary': 'Dataset Generated by Stream Engine from Ocean Observatories Initiative', 'keywords_vocabulary': '', 'institution': 'Ocean Observatories Initiative', 'naming_authority': 'org.oceanobservatories', 'feature_Type': 'point', 'infoUrl': 'http://oceanobservatories.org/', 'license': '', 'contributor_name': '', 'uuid': 'f821ac89-f7a0-4ede-b55a-c43cf60f151f', 'creator_name': 'Ocean Observatories Initiative', 'title': 'Data produced by Stream Engine version 1.0.1 for RS01SBPS-SF01A-2A-CTDPFA102-streamed-ctdpf_sbe43_sample', 'sensor': '2A-CTDPFA102', 'standard_name_vocabulary': 'NetCDF Climate and Forecast (CF) Metadata Convention Standard Name Table 29', 'acknowledgement': '', 'Conventions': 'CF-1.6', 'project': 'Ocean Observatories Initiative', 'source': 'RS01SBPS-SF01A-2A-CTDPFA102-streamed-ctdpf_sbe43_sample', 'publisher_url': 'http://oceanobservatories.org/', 'creator_url': 'http://oceanobservatories.org/', 'nodc_template_version': 'NODC_NetCDF_TimeSeries_Orthogonal_Template_v1.1', 'subsite': 'RS01SBPS', 'processing_level': 'L2', 'history': '2016-11-11T15:54:48.547998 generated from Stream Engine', 'time_coverage_start': '2016-11-10T00:00:00.935191', 'time_coverage_end': '2016-11-10T10:21:28.580840', 'time_coverage_resolution': 'P1.00S', 'geospatial_lat_min': 44.52897, 'geospatial_lat_max': 44.52897, 'geospatial_lat_units': 'degrees_north', 'geospatial_lat_resolution': 0.1, 'geospatial_lon_min': -125.38966, 'geospatial_lon_max': -125.38966, 'geospatial_lon_units': 'degrees_east', 'geospatial_lon_resolution': 0.1, 'geospatial_vertical_units': 'meters', 'geospatial_vertical_resolution': 0.1, 'geospatial_vertical_positive': 'down'} \n",
      "\n",
      "\n"
     ]
    }
   ],
   "source": [
    "print('- The number of variables in Attributes:    ',len(file_content.attrs), '\\n\\n')\n",
    "\n",
    "print('- Attributes is loaded in:    ', type(file_content.attrs), '\\n\\n')\n",
    "\n",
    "print('- Attributes content:    ', '\\n\\n', file_content.attrs, '\\n\\n')"
   ]
  },
  {
   "cell_type": "markdown",
   "metadata": {},
   "source": [
    "<a id=\"16\"></a>\n",
    "##### Explore Attributes Names.\n",
    "- To list the attribute names, use .keys() as follow:"
   ]
  },
  {
   "cell_type": "code",
   "execution_count": 16,
   "metadata": {},
   "outputs": [
    {
     "name": "stdout",
     "output_type": "stream",
     "text": [
      "Attributes Dictionary Keys:     \n",
      "\n",
      " dict_keys(['node', 'comment', 'publisher_email', 'sourceUrl', 'collection_method', 'stream', 'featureType', 'creator_email', 'publisher_name', 'date_modified', 'keywords', 'cdm_data_type', 'references', 'Metadata_Conventions', 'date_created', 'id', 'requestUUID', 'contributor_role', 'summary', 'keywords_vocabulary', 'institution', 'naming_authority', 'feature_Type', 'infoUrl', 'license', 'contributor_name', 'uuid', 'creator_name', 'title', 'sensor', 'standard_name_vocabulary', 'acknowledgement', 'Conventions', 'project', 'source', 'publisher_url', 'creator_url', 'nodc_template_version', 'subsite', 'processing_level', 'history', 'time_coverage_start', 'time_coverage_end', 'time_coverage_resolution', 'geospatial_lat_min', 'geospatial_lat_max', 'geospatial_lat_units', 'geospatial_lat_resolution', 'geospatial_lon_min', 'geospatial_lon_max', 'geospatial_lon_units', 'geospatial_lon_resolution', 'geospatial_vertical_units', 'geospatial_vertical_resolution', 'geospatial_vertical_positive']) \n",
      "\n",
      "\n"
     ]
    }
   ],
   "source": [
    "# get the atttributes variable anmes:\n",
    "if file_content.attrs:\n",
    "    print('Attributes Dictionary Keys:    ', '\\n\\n', \\\n",
    "          file_content.attrs.keys(), '\\n\\n')"
   ]
  },
  {
   "cell_type": "markdown",
   "metadata": {},
   "source": [
    "<a id=\"18\"></a>\n",
    "##### Extract Attributes Information.\n",
    "- set **attrs_var** to one of the Attribute names.\n",
    "- If the Attribute content is not empty print its content."
   ]
  },
  {
   "cell_type": "code",
   "execution_count": 18,
   "metadata": {},
   "outputs": [
    {
     "name": "stdout",
     "output_type": "stream",
     "text": [
      "geospatial_vertical_positive :     down \n",
      "\n",
      "\n"
     ]
    }
   ],
   "source": [
    "# define attrs_var\n",
    "attrs_var = 'geospatial_vertical_positive' \n",
    "if file_content.attrs:\n",
    "    print(attrs_var,':    ', file_content.attrs[attrs_var], '\\n\\n')"
   ]
  },
  {
   "cell_type": "markdown",
   "metadata": {},
   "source": [
    "______________________________________________\n",
    "###  _Metadata:_\n",
    "- [x] <span style='color:Blue'> The description give s more information about the sensor used to collect data (e.g., sensor used to collect data is a \"CTD Mooring (Inductive): CTDMO Series G\"). \n",
    "- [x] <span style='color:Blue'> More information on the data may be extracted by setting the attrs_var to other attributes names. </span> \n",
    "______________________________________________"
   ]
  },
  {
   "cell_type": "markdown",
   "metadata": {},
   "source": [
    "<a id=\"19\"></a>\n",
    "## <span style='color:Green'>  Metadata Summary:  </span>\n",
    "\n",
    "- In the file examined, the metadata exist in any of the file elements described above: **_Dimensions, Attributes, Data variables, Coordinates_**.\n",
    "\n",
    "- The python code lines used in this notebook is what you need to extract the metadata information in a NetCDF file.\n",
    "\n",
    "The data file metadata can be grouped in the following categories:\n",
    "- **Category 1:** The data file information.\n",
    "    - 'date_created', 'date_modified', 'ShelfLifeExpirationDate', 'RemoteResources',\n",
    "    - 'AssetManagementRecordLastModified', 'FirmwareVersion', 'SoftwareVersion'\n",
    "    - 'keywords', 'keywords_vocabulary',\n",
    "    - 'acknowledgement', 'license', 'history', 'Notes', 'comment',\n",
    "    - 'title', 'source', 'summary', 'id', 'requestUUID', 'uuid',\n",
    "    \n",
    "    \n",
    "- **Category 2:** The project information.\n",
    "    - 'Owner', 'institution', 'references', 'project', \n",
    "    - 'contributor_name', 'contributor_role',\n",
    "    - 'creator_name','creator_email', 'creator_url',\n",
    "    - 'publisher_name', 'publisher_email', 'publisher_url', \n",
    "    - 'infoUrl','sourceUrl', 'naming_authority',\n",
    "   \n",
    "   \n",
    "- **Category 3:** The data collection information.\n",
    "    - 'subsite', 'node', 'sensor','stream', 'Mobile', 'collection_method'\n",
    "    - 'Manufacturer', ModelNumber, 'SerialNumber', 'Description', 'AssetUniqueID'\n",
    "    - 'processing_level', 'cdm_data_type', 'feature_Type' \n",
    "    - 'time_coverage_start', 'time_coverage_end', 'time_coverage_resolution',\n",
    "    - 'lat', 'lon',\n",
    "    - 'geospatial_lat_min', 'geospatial_lat_max', 'geospatial_lat_units', 'geospatial_lat_resolution', \n",
    "    - 'geospatial_lon_min', 'geospatial_lon_max', 'geospatial_lon_units', 'geospatial_lon_resolution', \n",
    "    - 'geospatial_vertical_units', 'geospatial_vertical_resolution', 'geospatial_vertical_positive'\n",
    "\n",
    "    \n",
    "- **Category 4:** The conventions used to create the metadata or data.\n",
    "    - 'Metadata_Conventions', 'nodc_template_version', 'Conventions', 'standard_name_vocabulary'\n",
    "  \n",
    "  \n",
    "- **Category 5:** The parameter measured information.\n",
    "    - 'comment'\n",
    "    - 'long_name' \n",
    "    - 'standard_name'\n",
    "    - 'precision'\n",
    "    - 'data_product_identifier'\n",
    "    - 'units'\n",
    "    - 'values'\n",
    "    - 'dimension'\n",
    "    - 'coordinates'\n",
    "    \n",
    "\n",
    "<span style='color:Green'> What is Next:  </span>\n",
    "- The information in the file is what you need to start evaluating the quality of your data. \n",
    "- Data quality evaluation will be more in details in the upcoming course labs."
   ]
  },
  {
   "cell_type": "markdown",
   "metadata": {},
   "source": [
    "## END"
   ]
  }
 ],
 "metadata": {
  "kernelspec": {
   "display_name": "Python 3",
   "language": "python",
   "name": "python3"
  },
  "language_info": {
   "codemirror_mode": {
    "name": "ipython",
    "version": 3
   },
   "file_extension": ".py",
   "mimetype": "text/x-python",
   "name": "python",
   "nbconvert_exporter": "python",
   "pygments_lexer": "ipython3",
   "version": "3.7.4"
  }
 },
 "nbformat": 4,
 "nbformat_minor": 2
}
