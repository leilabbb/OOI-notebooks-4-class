{
 "cells": [
  {
   "cell_type": "markdown",
   "metadata": {},
   "source": [
    "## Data Validation Assignment.\n",
    "\n",
    "\n",
    "<span style='color:blue' size=20 > **Instructions:** </span> \n",
    "\n",
    "- Rename this notebook to include your name.\n",
    "- Use the group of the NetCDF files and *.csv files provided to complete Module 4 Lab assignment. \n",
    "- Follow the outline below to reproduce the Data Validation Review Process."
   ]
  },
  {
   "cell_type": "markdown",
   "metadata": {},
   "source": [
    "### Notebook Outline:\n",
    "\n",
    "- Use a **For** Loop to create the data validation process.\n",
    "- Use the Functions in the Example Notebook in the process.\n",
    "- What is the outcomes of the automated test? \n",
    "- What is the percent of good data? "
   ]
  }
 ],
 "metadata": {
  "kernelspec": {
   "display_name": "Python 3",
   "language": "python",
   "name": "python3"
  },
  "language_info": {
   "codemirror_mode": {
    "name": "ipython",
    "version": 3
   },
   "file_extension": ".py",
   "mimetype": "text/x-python",
   "name": "python",
   "nbconvert_exporter": "python",
   "pygments_lexer": "ipython3",
   "version": "3.7.7"
  }
 },
 "nbformat": 4,
 "nbformat_minor": 2
}
