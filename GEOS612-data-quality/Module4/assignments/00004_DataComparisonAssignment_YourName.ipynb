{
 "cells": [
  {
   "cell_type": "markdown",
   "metadata": {},
   "source": [
    "## Data Comparison Assignment.\n",
    "\n",
    "\n",
    "<span style='color:blue' size=20 > **Instructions:** </span> \n",
    "\n",
    "- Rename this notebook to include your name.\n",
    "- Use the group of the NetCDF files and *.csv files provided to complete this assignment. \n",
    "- Use the DataComparison_Example.ipynb notebook to compare recovered and telemetered data files from deployments 2 and 4.\n",
    "- Add functions from the example file to run  **compare_datasets**."
   ]
  },
  {
   "cell_type": "markdown",
   "metadata": {},
   "source": [
    "### Outline:\n",
    "\n",
    "- Select datasets for comparison.\n",
    "- Merge the Files Parameter Names.\n",
    "- Run **compare_datasets** for the selected files.\n",
    "- Are there missing data? \n",
    "- Do matching timestamps have the same values?"
   ]
  },
  {
   "cell_type": "code",
   "execution_count": null,
   "metadata": {},
   "outputs": [],
   "source": [
    "# Step 1: Select file name with the same deployment number. \n",
    "%cd ''\n",
    "file_recovered = 'data_review_list_GP03FLMB-RIM01-02-CTDMOG060_recovered.csv'\n",
    "file_telemetered = 'data_review_list_GP03FLMB-RIM01-02-CTDMOG060_telemetered.csv'\n"
   ]
  },
  {
   "cell_type": "code",
   "execution_count": null,
   "metadata": {},
   "outputs": [],
   "source": []
  }
 ],
 "metadata": {
  "kernelspec": {
   "display_name": "Python 3",
   "language": "python",
   "name": "python3"
  },
  "language_info": {
   "codemirror_mode": {
    "name": "ipython",
    "version": 3
   },
   "file_extension": ".py",
   "mimetype": "text/x-python",
   "name": "python",
   "nbconvert_exporter": "python",
   "pygments_lexer": "ipython3",
   "version": "3.7.7"
  }
 },
 "nbformat": 4,
 "nbformat_minor": 2
}
