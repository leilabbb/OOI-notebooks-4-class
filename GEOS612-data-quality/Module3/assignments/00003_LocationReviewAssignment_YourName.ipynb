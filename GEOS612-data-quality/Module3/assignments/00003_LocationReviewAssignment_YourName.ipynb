{
 "cells": [
  {
   "cell_type": "markdown",
   "metadata": {},
   "source": [
    "## Data Validation Assignment.\n",
    "\n",
    "\n",
    "<span style='color:blue' size=20 > **Instructions:** </span> \n",
    "\n",
    "- Rename this notebook to include your name.\n",
    "- Use one of the NetCDF files to complete Module 3 Lab assignment. \n",
    "    - Each NetCDF file name starts with a deployment number.\n",
    "    - In the example notebook I have used '**deployment0004**_GP03FLMB-R*.nc. \n",
    "    - Do not use Deployment 4 for you assignment.\n",
    "    - Follow the outline below to reproduce the Sensor Location Review Process."
   ]
  },
  {
   "cell_type": "markdown",
   "metadata": {},
   "source": [
    "### Outline.\n",
    "\n",
    "- [Extract the Deployment Number from the Data File.](#1)\n",
    "- [Validate the Deployment Number Against the Data File Name.](#2)\n",
    "- [Extract the Pressure Array from The Data File.](#3)\n",
    "- [Check for Erroneous Data in the Pressure Array.](#4)\n",
    "- [Calculate the Pressure Datasets Basic Statistics.](#5)\n",
    "- [Compare Pressure to the Deployment Depth.](#6)\n",
    "- [Calculate the Lon/Lat Difference in km.](#7)\n",
    "- [Summarize Results.](#8)\n",
    "- [Report on the Sensor Location Review.](#9)"
   ]
  },
  {
   "cell_type": "markdown",
   "metadata": {},
   "source": [
    "<a id=\"1\"></a>\n",
    "Extract the Deployment Number from the Data File."
   ]
  },
  {
   "cell_type": "code",
   "execution_count": null,
   "metadata": {},
   "outputs": [],
   "source": []
  },
  {
   "cell_type": "markdown",
   "metadata": {},
   "source": [
    "<a id=\"2\"></a>\n",
    "Validate the Deployment Number Against the Data File Name."
   ]
  },
  {
   "cell_type": "code",
   "execution_count": null,
   "metadata": {},
   "outputs": [],
   "source": []
  },
  {
   "cell_type": "markdown",
   "metadata": {},
   "source": [
    "<a id=\"3\"></a>\n",
    "Extract the Pressure Array from The Data File."
   ]
  },
  {
   "cell_type": "code",
   "execution_count": null,
   "metadata": {},
   "outputs": [],
   "source": []
  },
  {
   "cell_type": "markdown",
   "metadata": {},
   "source": [
    "<a id=\"4\"></a>\n",
    "Check for Erroneous Data in the Pressure Array."
   ]
  },
  {
   "cell_type": "code",
   "execution_count": null,
   "metadata": {},
   "outputs": [],
   "source": []
  },
  {
   "cell_type": "markdown",
   "metadata": {},
   "source": [
    "<a id=\"5\"></a>\n",
    "Calculate the Pressure Datasets Basic Statistics."
   ]
  },
  {
   "cell_type": "code",
   "execution_count": null,
   "metadata": {},
   "outputs": [],
   "source": []
  },
  {
   "cell_type": "markdown",
   "metadata": {},
   "source": [
    "<a id=\"6\"></a>\n",
    "Compare Pressure to the Deployment Depth."
   ]
  },
  {
   "cell_type": "code",
   "execution_count": null,
   "metadata": {},
   "outputs": [],
   "source": []
  },
  {
   "cell_type": "markdown",
   "metadata": {},
   "source": [
    "<a id=\"7\"></a>\n",
    "Calculate the Lon/Lat Difference in km."
   ]
  },
  {
   "cell_type": "code",
   "execution_count": null,
   "metadata": {},
   "outputs": [],
   "source": []
  },
  {
   "cell_type": "markdown",
   "metadata": {},
   "source": [
    "<a id=\"8\"></a>\n",
    "Summarize Results."
   ]
  },
  {
   "cell_type": "code",
   "execution_count": null,
   "metadata": {},
   "outputs": [],
   "source": []
  },
  {
   "cell_type": "markdown",
   "metadata": {},
   "source": [
    "<a id=\"9\"></a>\n",
    "Report on the Sensor Location Review."
   ]
  },
  {
   "cell_type": "code",
   "execution_count": null,
   "metadata": {},
   "outputs": [],
   "source": []
  }
 ],
 "metadata": {
  "kernelspec": {
   "display_name": "Python 3",
   "language": "python",
   "name": "python3"
  },
  "language_info": {
   "codemirror_mode": {
    "name": "ipython",
    "version": 3
   },
   "file_extension": ".py",
   "mimetype": "text/x-python",
   "name": "python",
   "nbconvert_exporter": "python",
   "pygments_lexer": "ipython3",
   "version": "3.7.7"
  }
 },
 "nbformat": 4,
 "nbformat_minor": 2
}
