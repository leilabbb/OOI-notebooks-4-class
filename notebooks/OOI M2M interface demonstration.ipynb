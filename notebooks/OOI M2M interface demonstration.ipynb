{
 "cells": [
  {
   "cell_type": "markdown",
   "metadata": {},
   "source": [
    "# How to access and use the M2M interface to request OOI data\n",
    " By Leila Belabbassi\n",
    "\n",
    "main OOI website: https://oceanobservatories.org/"
   ]
  },
  {
   "cell_type": "markdown",
   "metadata": {},
   "source": [
    "## Instrument Information to make the request to the M2M API"
   ]
  },
  {
   "cell_type": "markdown",
   "metadata": {},
   "source": [
    "- Learn the OOI codes or IDs using the https://ooinet.oceanobservatories.org/\n",
    "\n",
    "- For any instrument you need the following:\n",
    "    - the 3 parts of the **Reference Designator**<p style=\"color:green; font-size:1.1em;\">{subsite}/{node}/{sensor}/</p>\n",
    "    \n",
    "    - the data delivery **method**<p style=\"color:green; font-size:1.1em;\">{method}/</p>\n",
    "    \n",
    "    - the data delivery **stream**<p style=\"color:green; font-size:1.1em;\">{stream}/</p>\n",
    "\n",
    "\n",
    "- To make a data request, we construct a URL using the elements above using the following format:\n",
    "\n",
    "OOI_API = \n",
    "<p style=\"color:blue; font-size:1.1em;\">https://ooinet.oceanobservatories.org/api/m2m/12576/sensor/inv/\n",
    "<p style=\"color:red; font-size:1.1em;\">     +</p>\n",
    "instrument_info =\n",
    "<p style=\"color:green; font-size:1.1em;\">{subsite}/{node}/{sensor}/{method}/{stream}</p>\n",
    "\n",
    "sensor_URL = \n",
    "https://ooinet.oceanobservatories.org/api/m2m/12576/sensor/inv/{subsite}/{node}/{sensor}/{method}/{stream}\n",
    "\n",
    "- We can also specify a number of additional optionals using the params array. We can specify a start (beginDT) and ending date/time (endDT) for our request."
   ]
  },
  {
   "cell_type": "markdown",
   "metadata": {},
   "source": [
    "## NOTE: \n",
    "- You may find the Rutgers OOI SE 1.0 Data Review Portal helpful (https://datareview.marine.rutgers.edu/)\n",
    "\n",
    "    - On each instrument report page there is an Info tab in the top right corner that gives you information about the instrument, data streams, and parameters.\n"
   ]
  },
  {
   "cell_type": "markdown",
   "metadata": {},
   "source": [
    "## Step 1:\n",
    "#### - Go to the OOI Data Portal https://ooinet.oceanobservatories.org. \n",
    "#### - Obtain your API username and API token from your profile page.\n"
   ]
  },
  {
   "cell_type": "code",
   "execution_count": 1,
   "metadata": {},
   "outputs": [],
   "source": [
    "# API Information\n",
    "USERNAME = ''\n",
    "TOKEN = ''"
   ]
  },
  {
   "cell_type": "markdown",
   "metadata": {},
   "source": [
    "## Step 2:\n",
    "#### - Use the OOI API Sensor Inventory a navigation tool in the OOI instrument hierarchy."
   ]
  },
  {
   "cell_type": "code",
   "execution_count": 2,
   "metadata": {},
   "outputs": [],
   "source": [
    "SENSOR_BASE_URL = 'https://ooinet.oceanobservatories.org/api/m2m/12576/sensor/inv/'"
   ]
  },
  {
   "cell_type": "markdown",
   "metadata": {},
   "source": [
    "## Step 3:\n",
    "#### - Add the python libraries that we need in this environment."
   ]
  },
  {
   "cell_type": "code",
   "execution_count": 3,
   "metadata": {},
   "outputs": [],
   "source": [
    "# use the python requests library\n",
    "import requests"
   ]
  },
  {
   "cell_type": "code",
   "execution_count": 4,
   "metadata": {},
   "outputs": [],
   "source": [
    "r = requests.get(SENSOR_BASE_URL, auth=(USERNAME, TOKEN))"
   ]
  },
  {
   "cell_type": "code",
   "execution_count": 5,
   "metadata": {},
   "outputs": [
    {
     "name": "stdout",
     "output_type": "stream",
     "text": [
      "200\n"
     ]
    }
   ],
   "source": [
    "# returns status code \n",
    "# 200 means our request was OK and and information was returned.\n",
    "print( r.status_code )"
   ]
  },
  {
   "cell_type": "code",
   "execution_count": 7,
   "metadata": {},
   "outputs": [
    {
     "name": "stdout",
     "output_type": "stream",
     "text": [
      "['CE01ISSM', 'CE01ISSP', 'CE02SHBP', 'CE02SHSM', 'CE02SHSP', 'CE04OSBP', 'CE04OSPD', 'CE04OSPI', 'CE04OSPS', 'CE04OSSM', 'CE05MOAS', 'CE06ISSM', 'CE06ISSP', 'CE07SHSM', 'CE07SHSP', 'CE09OSPM', 'CE09OSSM', 'CP01CNPM', 'CP01CNSM', 'CP01CNSP', 'CP02PMCI', 'CP02PMCO', 'CP02PMUI', 'CP02PMUO', 'CP03ISPM', 'CP03ISSM', 'CP03ISSP', 'CP04OSPM', 'CP04OSSM', 'CP05MOAS', 'GA01SUMO', 'GA02HYPM', 'GA03FLMA', 'GA03FLMB', 'GA05MOAS', 'GI01SUMO', 'GI02HYPM', 'GI03FLMA', 'GI03FLMB', 'GI05MOAS', 'GP02HYPM', 'GP03FLMA', 'GP03FLMB', 'GP05MOAS', 'GS01SUMO', 'GS02HYPM', 'GS03FLMA', 'GS03FLMB', 'GS05MOAS', 'RS01OSBP', 'RS01SBPD', 'RS01SBPS', 'RS01SHBP', 'RS01SHDR', 'RS01SLBS', 'RS01SUM1', 'RS01SUM2', 'RS03ASHS', 'RS03AXBS', 'RS03AXPD', 'RS03AXPS', 'RS03AXSM', 'RS03CCAL', 'RS03ECAL', 'RS03INT1', 'RS03INT2', 'SSRSPACC']\n"
     ]
    }
   ],
   "source": [
    "# returns data into a structured object\n",
    "print( r.json() )"
   ]
  },
  {
   "cell_type": "markdown",
   "metadata": {},
   "source": [
    "## Step 4:\n",
    "#### - Use this this endpoint to navigate the OOI instrument hierarchy.\n",
    "#### - Print each entry."
   ]
  },
  {
   "cell_type": "code",
   "execution_count": 8,
   "metadata": {},
   "outputs": [
    {
     "name": "stdout",
     "output_type": "stream",
     "text": [
      "CE01ISSM\n",
      "CE01ISSP\n",
      "CE02SHBP\n",
      "CE02SHSM\n",
      "CE02SHSP\n",
      "CE04OSBP\n",
      "CE04OSPD\n",
      "CE04OSPI\n",
      "CE04OSPS\n",
      "CE04OSSM\n",
      "CE05MOAS\n",
      "CE06ISSM\n",
      "CE06ISSP\n",
      "CE07SHSM\n",
      "CE07SHSP\n",
      "CE09OSPM\n",
      "CE09OSSM\n",
      "CP01CNPM\n",
      "CP01CNSM\n",
      "CP01CNSP\n",
      "CP02PMCI\n",
      "CP02PMCO\n",
      "CP02PMUI\n",
      "CP02PMUO\n",
      "CP03ISPM\n",
      "CP03ISSM\n",
      "CP03ISSP\n",
      "CP04OSPM\n",
      "CP04OSSM\n",
      "CP05MOAS\n",
      "GA01SUMO\n",
      "GA02HYPM\n",
      "GA03FLMA\n",
      "GA03FLMB\n",
      "GA05MOAS\n",
      "GI01SUMO\n",
      "GI02HYPM\n",
      "GI03FLMA\n",
      "GI03FLMB\n",
      "GI05MOAS\n",
      "GP02HYPM\n",
      "GP03FLMA\n",
      "GP03FLMB\n",
      "GP05MOAS\n",
      "GS01SUMO\n",
      "GS02HYPM\n",
      "GS03FLMA\n",
      "GS03FLMB\n",
      "GS05MOAS\n",
      "RS01OSBP\n",
      "RS01SBPD\n",
      "RS01SBPS\n",
      "RS01SHBP\n",
      "RS01SHDR\n",
      "RS01SLBS\n",
      "RS01SUM1\n",
      "RS01SUM2\n",
      "RS03ASHS\n",
      "RS03AXBS\n",
      "RS03AXPD\n",
      "RS03AXPS\n",
      "RS03AXSM\n",
      "RS03CCAL\n",
      "RS03ECAL\n",
      "RS03INT1\n",
      "RS03INT2\n",
      "SSRSPACC\n"
     ]
    }
   ],
   "source": [
    "# set varaible\n",
    "sites = r.json()\n",
    "# List of sites for the OOI system\n",
    "for site in sites:\n",
    "    print(site)"
   ]
  },
  {
   "cell_type": "code",
   "execution_count": 10,
   "metadata": {},
   "outputs": [],
   "source": [
    "# A quick function to make an API request and print the results\n",
    "def get_and_print_api(url):\n",
    "  r = requests.get(url, auth=(USERNAME, TOKEN))\n",
    "  data = r.json()\n",
    "  for d in data:\n",
    "    print( d )"
   ]
  },
  {
   "cell_type": "markdown",
   "metadata": {},
   "source": [
    "## Example:\n",
    "#### use the 30m CTD on Global Papa Flanking Mooring B."
   ]
  },
  {
   "cell_type": "code",
   "execution_count": 11,
   "metadata": {},
   "outputs": [
    {
     "name": "stdout",
     "output_type": "stream",
     "text": [
      "RIM01\n",
      "RIS01\n"
     ]
    }
   ],
   "source": [
    "# List of nodes for a site\n",
    "get_and_print_api(SENSOR_BASE_URL+'/GP03FLMB')"
   ]
  },
  {
   "cell_type": "code",
   "execution_count": 12,
   "metadata": {},
   "outputs": [
    {
     "name": "stdout",
     "output_type": "stream",
     "text": [
      "00-SIOENG000\n",
      "02-ADCPSL007\n",
      "02-CTDMOG060\n",
      "02-CTDMOG061\n",
      "02-CTDMOG062\n",
      "02-CTDMOG063\n",
      "02-CTDMOG064\n",
      "02-CTDMOG065\n",
      "02-CTDMOG066\n",
      "02-CTDMOG067\n",
      "02-CTDMOG068\n",
      "02-CTDMOH069\n",
      "02-CTDMOH070\n",
      "02-CTDMOH071\n"
     ]
    }
   ],
   "source": [
    "# List of Sensors (Instruments) for a Node\n",
    "get_and_print_api(SENSOR_BASE_URL+'/GP03FLMB/RIM01')"
   ]
  },
  {
   "cell_type": "code",
   "execution_count": 13,
   "metadata": {},
   "outputs": [
    {
     "name": "stdout",
     "output_type": "stream",
     "text": [
      "bad_recovered_host\n",
      "bad_telemetered\n",
      "recovered_host\n",
      "recovered_inst\n",
      "telemetered\n"
     ]
    }
   ],
   "source": [
    "# List of Methods for a Sensor\n",
    "get_and_print_api(SENSOR_BASE_URL+'/GP03FLMB/RIM01/02-CTDMOG060')"
   ]
  },
  {
   "cell_type": "code",
   "execution_count": 14,
   "metadata": {},
   "outputs": [
    {
     "name": "stdout",
     "output_type": "stream",
     "text": [
      "ctdmo_ghqr_sio_mule_instrument\n",
      "ctdmo_ghqr_sio_offset\n"
     ]
    }
   ],
   "source": [
    "# List of Data Streams for a Method\n",
    "get_and_print_api(SENSOR_BASE_URL+'/GP03FLMB/RIM01/02-CTDMOG060/telemetered')"
   ]
  },
  {
   "cell_type": "markdown",
   "metadata": {},
   "source": [
    "## Step 5:\n",
    "#### - Make an asynchronous request (aka a request for downloadable netcdf files).\n",
    "#### - Go down one additional level by adding the stream name to the request we made above.\n",
    "#### - Dive into how to make more precise data requests."
   ]
  },
  {
   "cell_type": "code",
   "execution_count": 16,
   "metadata": {},
   "outputs": [],
   "source": [
    "#OOI API to make asynchronous requests \n",
    "# Instrument Information\n",
    "site = 'GP03FLMB'\n",
    "node = 'RIM01'\n",
    "instrument = '02-CTDMOG060'\n",
    "method = 'telemetered'\n",
    "stream = 'ctdmo_ghqr_sio_mule_instrument'\n",
    "\n",
    "# Create the request URL\n",
    "data_request_url ='/'.join((SENSOR_BASE_URL,site,node,instrument,method,stream))\n",
    "\n",
    "# All of the following are optional\n",
    "params = {\n",
    "  'beginDT':'2016-10-01T00:00:00.000Z',\n",
    "  'endDT':'2016-11-01T00:00:00.000Z',\n",
    "  'format':'application/netcdf',\n",
    "  'include_provenance':'true',\n",
    "  'include_annotations':'true'\n",
    "}"
   ]
  },
  {
   "cell_type": "markdown",
   "metadata": {},
   "source": [
    "## IMPORTANT:\n",
    "- Uncomment lines 2 and 3 in the cell below if you are making the data request for the 1st time\n",
    "\n",
    "**WARNING**: running the cell multiple times equates sending multiple requests and triggering multiple responses which is perceived as a poor practice to interact with the OOI sysytem."
   ]
  },
  {
   "cell_type": "code",
   "execution_count": 17,
   "metadata": {},
   "outputs": [],
   "source": [
    "# returns some URLs and some other metadata about our request.\n",
    "# r = requests.get(data_request_url, params=params, auth=(USERNAME, TOKEN))\n",
    "# data = r.json()"
   ]
  },
  {
   "cell_type": "code",
   "execution_count": 24,
   "metadata": {},
   "outputs": [
    {
     "name": "stdout",
     "output_type": "stream",
     "text": [
      "{'requestUUID': '2e339403-0492-42d3-8f03-d6d10c5b8fcd', 'outputURL': 'https://opendap.oceanobservatories.org/thredds/catalog/ooi/leila@marine.rutgers.edu/20191017T031650103Z-GP03FLMB-RIM01-02-CTDMOG060-telemetered-ctdmo_ghqr_sio_mule_instrument/catalog.html', 'allURLs': ['https://opendap.oceanobservatories.org/thredds/catalog/ooi/leila@marine.rutgers.edu/20191017T031650103Z-GP03FLMB-RIM01-02-CTDMOG060-telemetered-ctdmo_ghqr_sio_mule_instrument/catalog.html', 'https://opendap.oceanobservatories.org/async_results/leila@marine.rutgers.edu/20191017T031650103Z-GP03FLMB-RIM01-02-CTDMOG060-telemetered-ctdmo_ghqr_sio_mule_instrument'], 'sizeCalculation': 4080, 'timeCalculation': 60, 'numberOfSubJobs': 2}\n"
     ]
    }
   ],
   "source": [
    "print(data)"
   ]
  },
  {
   "cell_type": "markdown",
   "metadata": {},
   "source": [
    "##### The first URL in the allURLs key points to the THREDDS server, which allows for programmatic data access without downloading the entire file."
   ]
  },
  {
   "cell_type": "code",
   "execution_count": 18,
   "metadata": {
    "scrolled": true
   },
   "outputs": [
    {
     "name": "stdout",
     "output_type": "stream",
     "text": [
      "https://opendap.oceanobservatories.org/thredds/catalog/ooi/leila@marine.rutgers.edu/20191017T031650103Z-GP03FLMB-RIM01-02-CTDMOG060-telemetered-ctdmo_ghqr_sio_mule_instrument/catalog.html\n"
     ]
    }
   ],
   "source": [
    "print(data['allURLs'][0])"
   ]
  },
  {
   "cell_type": "markdown",
   "metadata": {},
   "source": [
    "#### The second URL in the allURLs key provides a direct link to a web server which you can use to quickly download files if you don't want to go through THREDDS."
   ]
  },
  {
   "cell_type": "code",
   "execution_count": 19,
   "metadata": {},
   "outputs": [
    {
     "name": "stdout",
     "output_type": "stream",
     "text": [
      "https://opendap.oceanobservatories.org/async_results/leila@marine.rutgers.edu/20191017T031650103Z-GP03FLMB-RIM01-02-CTDMOG060-telemetered-ctdmo_ghqr_sio_mule_instrument\n"
     ]
    }
   ],
   "source": [
    "print(data['allURLs'][1])"
   ]
  },
  {
   "cell_type": "markdown",
   "metadata": {},
   "source": [
    "## Optional Step:\n",
    "#### How can you check when a request is complete?\n",
    " - Request completed:\n",
    "     - use the 2nd URL to check for status.txt file == data are in the THREDDS server.\n",
    "     - use a For loop to locate the status.txt files "
   ]
  },
  {
   "cell_type": "code",
   "execution_count": 23,
   "metadata": {},
   "outputs": [
    {
     "name": "stdout",
     "output_type": "stream",
     "text": [
      "request completed\n"
     ]
    }
   ],
   "source": [
    "## time\n",
    "import datetime\n",
    "\n",
    "check_complete = data['allURLs'][1] + '/status.txt'\n",
    "for i in range(1000): \n",
    "    r = requests.get(check_complete)\n",
    "    if r.status_code == requests.codes.ok:\n",
    "        print('request completed')\n",
    "        break\n",
    "    else:\n",
    "        time.sleep(.5)"
   ]
  },
  {
   "cell_type": "markdown",
   "metadata": {},
   "source": [
    "# END"
   ]
  }
 ],
 "metadata": {
  "kernelspec": {
   "display_name": "Python 3",
   "language": "python",
   "name": "python3"
  },
  "language_info": {
   "codemirror_mode": {
    "name": "ipython",
    "version": 3
   },
   "file_extension": ".py",
   "mimetype": "text/x-python",
   "name": "python",
   "nbconvert_exporter": "python",
   "pygments_lexer": "ipython3",
   "version": "3.7.4"
  }
 },
 "nbformat": 4,
 "nbformat_minor": 2
}
